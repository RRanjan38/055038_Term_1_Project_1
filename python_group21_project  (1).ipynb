{
 "cells": [
  {
   "cell_type": "markdown",
   "id": "fba5e1aa-1d21-46de-8cc4-03e814ebdf3a",
   "metadata": {},
   "source": [
    "**Project Report on Imports and Exports Data Analysis**"
   ]
  },
  {
   "cell_type": "markdown",
   "id": "9cb4a83e-956b-4463-a9c3-6ae1ba937b9b",
   "metadata": {},
   "source": [
    "**Project Information**\n",
    "* **Project Title**: Comprehensive Analysis of Imports and Exports Dataset\n",
    "* **Student Name**: Rajiv Ranjan ,Isha Gupta\n",
    "* **Enrollment Number** : 055038 , 055014"
   ]
  },
  {
   "cell_type": "code",
   "execution_count": 367,
   "id": "1aa17022-dc44-44b5-80ac-9044106b610d",
   "metadata": {},
   "outputs": [],
   "source": [
    "# Importing Relevant Python Libraries.\n",
    "import pandas as pd\n",
    "import numpy as np"
   ]
  },
  {
   "cell_type": "code",
   "execution_count": 368,
   "id": "b3ab6c98-3e32-4d3e-82fa-d5afbb57c4d5",
   "metadata": {},
   "outputs": [],
   "source": [
    "# Loading the Data.\n",
    "IE_data = pd.read_csv(r\"C:\\Users\\ishud\\Downloads\\Imports_Exports_Dataset.csv\")"
   ]
  },
  {
   "cell_type": "code",
   "execution_count": 369,
   "id": "3da21b9c-3a91-41b5-b3d7-6101e39ebd4c",
   "metadata": {},
   "outputs": [
    {
     "data": {
      "text/plain": [
       "(15000, 16)"
      ]
     },
     "execution_count": 369,
     "metadata": {},
     "output_type": "execute_result"
    }
   ],
   "source": [
    "# Dimensions of Data.\n",
    "IE_data.shape"
   ]
  },
  {
   "cell_type": "code",
   "execution_count": 370,
   "id": "eae41ff1-61bd-4412-b7ef-89d6eb1aef16",
   "metadata": {},
   "outputs": [],
   "source": [
    "# Creating an Unique Sample of 2001 Records using Student Roll Number as Random State.\n",
    "IE_dataset = IE_data.sample(n=2001 , random_state= 55038)"
   ]
  },
  {
   "cell_type": "code",
   "execution_count": 371,
   "id": "18aaf9d9-94e5-4836-bd6c-9935fbc3ce95",
   "metadata": {},
   "outputs": [
    {
     "data": {
      "text/plain": [
       "(2001, 16)"
      ]
     },
     "execution_count": 371,
     "metadata": {},
     "output_type": "execute_result"
    }
   ],
   "source": [
    "# Dimensions of Sample Data.\n",
    "IE_dataset.shape"
   ]
  },
  {
   "cell_type": "code",
   "execution_count": 372,
   "id": "a275ff0d-1f47-45f5-83f7-062875ee8401",
   "metadata": {},
   "outputs": [
    {
     "name": "stdout",
     "output_type": "stream",
     "text": [
      "<class 'pandas.core.frame.DataFrame'>\n",
      "Index: 2001 entries, 4972 to 10351\n",
      "Data columns (total 16 columns):\n",
      " #   Column           Non-Null Count  Dtype  \n",
      "---  ------           --------------  -----  \n",
      " 0   Transaction_ID   2001 non-null   object \n",
      " 1   Country          2001 non-null   object \n",
      " 2   Product          2001 non-null   object \n",
      " 3   Import_Export    2001 non-null   object \n",
      " 4   Quantity         2001 non-null   int64  \n",
      " 5   Value            2001 non-null   float64\n",
      " 6   Date             2001 non-null   object \n",
      " 7   Category         2001 non-null   object \n",
      " 8   Port             2001 non-null   object \n",
      " 9   Customs_Code     2001 non-null   int64  \n",
      " 10  Weight           2001 non-null   float64\n",
      " 11  Shipping_Method  2001 non-null   object \n",
      " 12  Supplier         2001 non-null   object \n",
      " 13  Customer         2001 non-null   object \n",
      " 14  Invoice_Number   2001 non-null   int64  \n",
      " 15  Payment_Terms    2001 non-null   object \n",
      "dtypes: float64(2), int64(3), object(11)\n",
      "memory usage: 265.8+ KB\n"
     ]
    }
   ],
   "source": [
    "# Sample Data Information.\n",
    "IE_dataset.info()"
   ]
  },
  {
   "cell_type": "code",
   "execution_count": 373,
   "id": "2a9dae43-e316-4f3d-b5e6-fd96e33ca618",
   "metadata": {},
   "outputs": [
    {
     "data": {
      "text/html": [
       "<div>\n",
       "<style scoped>\n",
       "    .dataframe tbody tr th:only-of-type {\n",
       "        vertical-align: middle;\n",
       "    }\n",
       "\n",
       "    .dataframe tbody tr th {\n",
       "        vertical-align: top;\n",
       "    }\n",
       "\n",
       "    .dataframe thead th {\n",
       "        text-align: right;\n",
       "    }\n",
       "</style>\n",
       "<table border=\"1\" class=\"dataframe\">\n",
       "  <thead>\n",
       "    <tr style=\"text-align: right;\">\n",
       "      <th></th>\n",
       "      <th>Transaction_ID</th>\n",
       "      <th>Country</th>\n",
       "      <th>Product</th>\n",
       "      <th>Import_Export</th>\n",
       "      <th>Quantity</th>\n",
       "      <th>Value</th>\n",
       "      <th>Date</th>\n",
       "      <th>Category</th>\n",
       "      <th>Port</th>\n",
       "      <th>Customs_Code</th>\n",
       "      <th>Weight</th>\n",
       "      <th>Shipping_Method</th>\n",
       "      <th>Supplier</th>\n",
       "      <th>Customer</th>\n",
       "      <th>Invoice_Number</th>\n",
       "      <th>Payment_Terms</th>\n",
       "    </tr>\n",
       "  </thead>\n",
       "  <tbody>\n",
       "    <tr>\n",
       "      <th>4972</th>\n",
       "      <td>4bad5842-b0c7-410e-bc4f-d2fa3dab6e30</td>\n",
       "      <td>Kazakhstan</td>\n",
       "      <td>single</td>\n",
       "      <td>Import</td>\n",
       "      <td>6902</td>\n",
       "      <td>4536.94</td>\n",
       "      <td>04-02-2022</td>\n",
       "      <td>Toys</td>\n",
       "      <td>North Ryan</td>\n",
       "      <td>129114</td>\n",
       "      <td>304.33</td>\n",
       "      <td>Sea</td>\n",
       "      <td>Alexander, Lyons and Snyder</td>\n",
       "      <td>Tiffany Clark</td>\n",
       "      <td>9470898</td>\n",
       "      <td>Cash on Delivery</td>\n",
       "    </tr>\n",
       "    <tr>\n",
       "      <th>10055</th>\n",
       "      <td>2ed16181-3218-4baa-b701-097b568c1fa9</td>\n",
       "      <td>Hungary</td>\n",
       "      <td>particularly</td>\n",
       "      <td>Import</td>\n",
       "      <td>5019</td>\n",
       "      <td>1667.66</td>\n",
       "      <td>26-09-2022</td>\n",
       "      <td>Machinery</td>\n",
       "      <td>Brownville</td>\n",
       "      <td>578367</td>\n",
       "      <td>3254.05</td>\n",
       "      <td>Sea</td>\n",
       "      <td>Boyer, Collier and Weaver</td>\n",
       "      <td>Adam Peters</td>\n",
       "      <td>64206843</td>\n",
       "      <td>Prepaid</td>\n",
       "    </tr>\n",
       "    <tr>\n",
       "      <th>2920</th>\n",
       "      <td>ce6185b7-e6fb-4f80-bc3f-9774732eba92</td>\n",
       "      <td>Saint Lucia</td>\n",
       "      <td>become</td>\n",
       "      <td>Import</td>\n",
       "      <td>2623</td>\n",
       "      <td>2217.23</td>\n",
       "      <td>25-12-2019</td>\n",
       "      <td>Electronics</td>\n",
       "      <td>Courtneyshire</td>\n",
       "      <td>262277</td>\n",
       "      <td>2161.28</td>\n",
       "      <td>Sea</td>\n",
       "      <td>Hall-Hoffman</td>\n",
       "      <td>Lori Davis</td>\n",
       "      <td>78998689</td>\n",
       "      <td>Net 60</td>\n",
       "    </tr>\n",
       "    <tr>\n",
       "      <th>11695</th>\n",
       "      <td>6e81983d-f9b4-4417-9b0a-ef5f1e405ce5</td>\n",
       "      <td>Botswana</td>\n",
       "      <td>store</td>\n",
       "      <td>Import</td>\n",
       "      <td>7669</td>\n",
       "      <td>6934.78</td>\n",
       "      <td>30-12-2023</td>\n",
       "      <td>Electronics</td>\n",
       "      <td>East Anthony</td>\n",
       "      <td>419025</td>\n",
       "      <td>2504.32</td>\n",
       "      <td>Sea</td>\n",
       "      <td>Burnett, Williams and Odom</td>\n",
       "      <td>Melanie Phelps</td>\n",
       "      <td>21975762</td>\n",
       "      <td>Cash on Delivery</td>\n",
       "    </tr>\n",
       "    <tr>\n",
       "      <th>9363</th>\n",
       "      <td>a3a3084d-93f4-427b-8d86-cc8e36321cb3</td>\n",
       "      <td>Suriname</td>\n",
       "      <td>cell</td>\n",
       "      <td>Import</td>\n",
       "      <td>5704</td>\n",
       "      <td>9951.30</td>\n",
       "      <td>27-08-2023</td>\n",
       "      <td>Toys</td>\n",
       "      <td>Lake Lorifort</td>\n",
       "      <td>515082</td>\n",
       "      <td>733.41</td>\n",
       "      <td>Air</td>\n",
       "      <td>Lewis-Ross</td>\n",
       "      <td>Sarah Nguyen</td>\n",
       "      <td>30411836</td>\n",
       "      <td>Net 60</td>\n",
       "    </tr>\n",
       "  </tbody>\n",
       "</table>\n",
       "</div>"
      ],
      "text/plain": [
       "                             Transaction_ID      Country       Product  \\\n",
       "4972   4bad5842-b0c7-410e-bc4f-d2fa3dab6e30   Kazakhstan        single   \n",
       "10055  2ed16181-3218-4baa-b701-097b568c1fa9      Hungary  particularly   \n",
       "2920   ce6185b7-e6fb-4f80-bc3f-9774732eba92  Saint Lucia        become   \n",
       "11695  6e81983d-f9b4-4417-9b0a-ef5f1e405ce5     Botswana         store   \n",
       "9363   a3a3084d-93f4-427b-8d86-cc8e36321cb3     Suriname          cell   \n",
       "\n",
       "      Import_Export  Quantity    Value        Date     Category  \\\n",
       "4972         Import      6902  4536.94  04-02-2022         Toys   \n",
       "10055        Import      5019  1667.66  26-09-2022    Machinery   \n",
       "2920         Import      2623  2217.23  25-12-2019  Electronics   \n",
       "11695        Import      7669  6934.78  30-12-2023  Electronics   \n",
       "9363         Import      5704  9951.30  27-08-2023         Toys   \n",
       "\n",
       "                Port  Customs_Code   Weight Shipping_Method  \\\n",
       "4972      North Ryan        129114   304.33             Sea   \n",
       "10055     Brownville        578367  3254.05             Sea   \n",
       "2920   Courtneyshire        262277  2161.28             Sea   \n",
       "11695   East Anthony        419025  2504.32             Sea   \n",
       "9363   Lake Lorifort        515082   733.41             Air   \n",
       "\n",
       "                          Supplier        Customer  Invoice_Number  \\\n",
       "4972   Alexander, Lyons and Snyder   Tiffany Clark         9470898   \n",
       "10055    Boyer, Collier and Weaver     Adam Peters        64206843   \n",
       "2920                  Hall-Hoffman      Lori Davis        78998689   \n",
       "11695   Burnett, Williams and Odom  Melanie Phelps        21975762   \n",
       "9363                    Lewis-Ross    Sarah Nguyen        30411836   \n",
       "\n",
       "          Payment_Terms  \n",
       "4972   Cash on Delivery  \n",
       "10055           Prepaid  \n",
       "2920             Net 60  \n",
       "11695  Cash on Delivery  \n",
       "9363             Net 60  "
      ]
     },
     "execution_count": 373,
     "metadata": {},
     "output_type": "execute_result"
    }
   ],
   "source": [
    "# First 05 Records of the Sample Data\n",
    "IE_dataset.head(5)"
   ]
  },
  {
   "cell_type": "code",
   "execution_count": 374,
   "id": "8715946c-e386-4490-a524-d396da4f96e1",
   "metadata": {},
   "outputs": [
    {
     "data": {
      "text/plain": [
       "Index(['Transaction_ID', 'Country', 'Product', 'Import_Export', 'Quantity',\n",
       "       'Value', 'Date', 'Category', 'Port', 'Customs_Code', 'Weight',\n",
       "       'Shipping_Method', 'Supplier', 'Customer', 'Invoice_Number',\n",
       "       'Payment_Terms'],\n",
       "      dtype='object')"
      ]
     },
     "execution_count": 374,
     "metadata": {},
     "output_type": "execute_result"
    }
   ],
   "source": [
    "# Names of Variables\n",
    "IE_dataset.columns"
   ]
  },
  {
   "cell_type": "markdown",
   "id": "31e68c96-fe0a-42b3-a409-cfa9e5788409",
   "metadata": {},
   "source": []
  },
  {
   "cell_type": "markdown",
   "id": "c6d20b64-4e25-4f67-ac63-d25e4304e38c",
   "metadata": {},
   "source": [
    "**Description of Data**\n",
    "\n",
    "* **1.Data Source & Size:**\n",
    "\n",
    "* Source: The dataset for this project was obtained from Kaggle.\n",
    "* Size: 15,000 records with 16 variables.\n",
    "  \n",
    "  \n",
    "* **2. Data Type:**\n",
    "This is a Cross-sectional dataset, capturing transactional data at a specific point in time.\n",
    "\n",
    "\n",
    "  **3.Data Dimension:**\n",
    "\n",
    "* Number of Variables: 16\n",
    "* Number of Observations: 15,000\n",
    "  \n",
    "  \n",
    "* **4.Data Variable Type:**\n",
    "\n",
    "* Text Variables:\n",
    "Transaction_ID, Country, Product, Import_Export, Date, Category, Port, Shipping_Method, Supplier, Customer, Payment_Terms\n",
    "* Number Variables:\n",
    "Integer: Quantity, Customs_Code, Invoice_Number\n",
    "* Decimal: Value, Weight\n",
    "\n",
    "\n",
    "* **5.Data Variable Category**:\n",
    "\n",
    "* Index: Transaction_ID, Invoice_Number (used for identifying each transaction)\n",
    "* Categorical (Nominal): Country, Product, Import_Export, Category, Port, Shipping_Method, Supplier, Customer, Payment_Terms\n",
    "* Categorical (Ordinal): \n",
    "* Non-Categorical: Quantity, Value, Customs_Code, Weight"
   ]
  },
  {
   "cell_type": "code",
   "execution_count": 377,
   "id": "9465c6ff-0c76-4ff1-a800-0ebb55b38a47",
   "metadata": {},
   "outputs": [
    {
     "name": "stdout",
     "output_type": "stream",
     "text": [
      "       Quantity    Value  Customs_Code   Weight\n",
      "4972       6902  4536.94        129114   304.33\n",
      "10055      5019  1667.66        578367  3254.05\n",
      "2920       2623  2217.23        262277  2161.28\n",
      "11695      7669  6934.78        419025  2504.32\n",
      "9363       5704  9951.30        515082   733.41\n",
      "...         ...      ...           ...      ...\n",
      "5368       5050  6715.89        724547  2770.99\n",
      "10660      7224  3866.34        300683   610.94\n",
      "2448       4786  3031.95        964547  1135.78\n",
      "7651         47  2714.02        371528  3755.67\n",
      "10351      7234  4596.47        561364  4522.01\n",
      "\n",
      "[2001 rows x 4 columns]\n"
     ]
    }
   ],
   "source": [
    "# Subseting the Non-Categorical Variables.\n",
    "non_categorical_columns = ['Quantity', 'Value', 'Customs_Code', 'Weight']\n",
    "non_categorical_df = IE_dataset[non_categorical_columns]\n",
    "print(non_categorical_df)"
   ]
  },
  {
   "cell_type": "code",
   "execution_count": 378,
   "id": "98293622-2512-410e-9887-b88f2bf6d257",
   "metadata": {},
   "outputs": [
    {
     "name": "stdout",
     "output_type": "stream",
     "text": [
      "          Quantity        Value   Customs_Code       Weight\n",
      "count  2001.000000  2001.000000    2001.000000  2001.000000\n",
      "mean   4990.357821  5111.399190  550067.123438  2527.380330\n",
      "std    2904.811911  2810.799035  262642.742450  1431.790918\n",
      "min       6.000000   106.830000  100398.000000     1.640000\n",
      "25%    2402.000000  2704.640000  319991.000000  1324.880000\n",
      "50%    5041.000000  5138.370000  548928.000000  2502.450000\n",
      "75%    7496.000000  7446.380000  775756.000000  3739.590000\n",
      "max    9995.000000  9996.720000  999768.000000  4994.070000\n"
     ]
    }
   ],
   "source": [
    "# Descriptive Statistics of the Non-Categorical Set.\n",
    "non_categorical_stats = non_categorical_df.describe()\n",
    "\n",
    "# Display the statistics\n",
    "print(non_categorical_stats)"
   ]
  },
  {
   "cell_type": "code",
   "execution_count": 379,
   "id": "7d4d09a3-d2b5-4c36-b7b0-c4b99251eb08",
   "metadata": {},
   "outputs": [
    {
     "data": {
      "text/html": [
       "<div>\n",
       "<style scoped>\n",
       "    .dataframe tbody tr th:only-of-type {\n",
       "        vertical-align: middle;\n",
       "    }\n",
       "\n",
       "    .dataframe tbody tr th {\n",
       "        vertical-align: top;\n",
       "    }\n",
       "\n",
       "    .dataframe thead th {\n",
       "        text-align: right;\n",
       "    }\n",
       "</style>\n",
       "<table border=\"1\" class=\"dataframe\">\n",
       "  <thead>\n",
       "    <tr style=\"text-align: right;\">\n",
       "      <th></th>\n",
       "      <th>Country</th>\n",
       "      <th>Product</th>\n",
       "      <th>Import_Export</th>\n",
       "      <th>Category</th>\n",
       "      <th>Port</th>\n",
       "      <th>Shipping_Method</th>\n",
       "      <th>Supplier</th>\n",
       "      <th>Customer</th>\n",
       "      <th>Payment_Terms</th>\n",
       "    </tr>\n",
       "  </thead>\n",
       "  <tbody>\n",
       "    <tr>\n",
       "      <th>4972</th>\n",
       "      <td>Kazakhstan</td>\n",
       "      <td>single</td>\n",
       "      <td>Import</td>\n",
       "      <td>Toys</td>\n",
       "      <td>North Ryan</td>\n",
       "      <td>Sea</td>\n",
       "      <td>Alexander, Lyons and Snyder</td>\n",
       "      <td>Tiffany Clark</td>\n",
       "      <td>Cash on Delivery</td>\n",
       "    </tr>\n",
       "    <tr>\n",
       "      <th>10055</th>\n",
       "      <td>Hungary</td>\n",
       "      <td>particularly</td>\n",
       "      <td>Import</td>\n",
       "      <td>Machinery</td>\n",
       "      <td>Brownville</td>\n",
       "      <td>Sea</td>\n",
       "      <td>Boyer, Collier and Weaver</td>\n",
       "      <td>Adam Peters</td>\n",
       "      <td>Prepaid</td>\n",
       "    </tr>\n",
       "    <tr>\n",
       "      <th>2920</th>\n",
       "      <td>Saint Lucia</td>\n",
       "      <td>become</td>\n",
       "      <td>Import</td>\n",
       "      <td>Electronics</td>\n",
       "      <td>Courtneyshire</td>\n",
       "      <td>Sea</td>\n",
       "      <td>Hall-Hoffman</td>\n",
       "      <td>Lori Davis</td>\n",
       "      <td>Net 60</td>\n",
       "    </tr>\n",
       "    <tr>\n",
       "      <th>11695</th>\n",
       "      <td>Botswana</td>\n",
       "      <td>store</td>\n",
       "      <td>Import</td>\n",
       "      <td>Electronics</td>\n",
       "      <td>East Anthony</td>\n",
       "      <td>Sea</td>\n",
       "      <td>Burnett, Williams and Odom</td>\n",
       "      <td>Melanie Phelps</td>\n",
       "      <td>Cash on Delivery</td>\n",
       "    </tr>\n",
       "    <tr>\n",
       "      <th>9363</th>\n",
       "      <td>Suriname</td>\n",
       "      <td>cell</td>\n",
       "      <td>Import</td>\n",
       "      <td>Toys</td>\n",
       "      <td>Lake Lorifort</td>\n",
       "      <td>Air</td>\n",
       "      <td>Lewis-Ross</td>\n",
       "      <td>Sarah Nguyen</td>\n",
       "      <td>Net 60</td>\n",
       "    </tr>\n",
       "    <tr>\n",
       "      <th>...</th>\n",
       "      <td>...</td>\n",
       "      <td>...</td>\n",
       "      <td>...</td>\n",
       "      <td>...</td>\n",
       "      <td>...</td>\n",
       "      <td>...</td>\n",
       "      <td>...</td>\n",
       "      <td>...</td>\n",
       "      <td>...</td>\n",
       "    </tr>\n",
       "    <tr>\n",
       "      <th>5368</th>\n",
       "      <td>Tanzania</td>\n",
       "      <td>manage</td>\n",
       "      <td>Export</td>\n",
       "      <td>Electronics</td>\n",
       "      <td>Jodyland</td>\n",
       "      <td>Land</td>\n",
       "      <td>Lewis-Burnett</td>\n",
       "      <td>Rebecca Martinez</td>\n",
       "      <td>Cash on Delivery</td>\n",
       "    </tr>\n",
       "    <tr>\n",
       "      <th>10660</th>\n",
       "      <td>Bolivia</td>\n",
       "      <td>successful</td>\n",
       "      <td>Export</td>\n",
       "      <td>Electronics</td>\n",
       "      <td>New Kellyborough</td>\n",
       "      <td>Air</td>\n",
       "      <td>Webb-Rodriguez</td>\n",
       "      <td>Arthur Martin</td>\n",
       "      <td>Net 30</td>\n",
       "    </tr>\n",
       "    <tr>\n",
       "      <th>2448</th>\n",
       "      <td>Bolivia</td>\n",
       "      <td>lot</td>\n",
       "      <td>Import</td>\n",
       "      <td>Electronics</td>\n",
       "      <td>North Bryantown</td>\n",
       "      <td>Air</td>\n",
       "      <td>Howard, Brooks and Rowe</td>\n",
       "      <td>Nicholas Newman</td>\n",
       "      <td>Net 30</td>\n",
       "    </tr>\n",
       "    <tr>\n",
       "      <th>7651</th>\n",
       "      <td>Ethiopia</td>\n",
       "      <td>ball</td>\n",
       "      <td>Export</td>\n",
       "      <td>Clothing</td>\n",
       "      <td>Bennettport</td>\n",
       "      <td>Air</td>\n",
       "      <td>Dennis, Barrett and Gonzalez</td>\n",
       "      <td>Alicia Smith</td>\n",
       "      <td>Net 30</td>\n",
       "    </tr>\n",
       "    <tr>\n",
       "      <th>10351</th>\n",
       "      <td>Spain</td>\n",
       "      <td>election</td>\n",
       "      <td>Export</td>\n",
       "      <td>Furniture</td>\n",
       "      <td>North Jeff</td>\n",
       "      <td>Sea</td>\n",
       "      <td>Perry Inc</td>\n",
       "      <td>Albert Williams</td>\n",
       "      <td>Net 30</td>\n",
       "    </tr>\n",
       "  </tbody>\n",
       "</table>\n",
       "<p>2001 rows × 9 columns</p>\n",
       "</div>"
      ],
      "text/plain": [
       "           Country       Product Import_Export     Category              Port  \\\n",
       "4972    Kazakhstan        single        Import         Toys        North Ryan   \n",
       "10055      Hungary  particularly        Import    Machinery        Brownville   \n",
       "2920   Saint Lucia        become        Import  Electronics     Courtneyshire   \n",
       "11695     Botswana         store        Import  Electronics      East Anthony   \n",
       "9363      Suriname          cell        Import         Toys     Lake Lorifort   \n",
       "...            ...           ...           ...          ...               ...   \n",
       "5368      Tanzania        manage        Export  Electronics          Jodyland   \n",
       "10660      Bolivia    successful        Export  Electronics  New Kellyborough   \n",
       "2448       Bolivia           lot        Import  Electronics   North Bryantown   \n",
       "7651      Ethiopia          ball        Export     Clothing       Bennettport   \n",
       "10351        Spain      election        Export    Furniture        North Jeff   \n",
       "\n",
       "      Shipping_Method                      Supplier          Customer  \\\n",
       "4972              Sea   Alexander, Lyons and Snyder     Tiffany Clark   \n",
       "10055             Sea     Boyer, Collier and Weaver       Adam Peters   \n",
       "2920              Sea                  Hall-Hoffman        Lori Davis   \n",
       "11695             Sea    Burnett, Williams and Odom    Melanie Phelps   \n",
       "9363              Air                    Lewis-Ross      Sarah Nguyen   \n",
       "...               ...                           ...               ...   \n",
       "5368             Land                 Lewis-Burnett  Rebecca Martinez   \n",
       "10660             Air                Webb-Rodriguez     Arthur Martin   \n",
       "2448              Air       Howard, Brooks and Rowe   Nicholas Newman   \n",
       "7651              Air  Dennis, Barrett and Gonzalez      Alicia Smith   \n",
       "10351             Sea                     Perry Inc   Albert Williams   \n",
       "\n",
       "          Payment_Terms  \n",
       "4972   Cash on Delivery  \n",
       "10055           Prepaid  \n",
       "2920             Net 60  \n",
       "11695  Cash on Delivery  \n",
       "9363             Net 60  \n",
       "...                 ...  \n",
       "5368   Cash on Delivery  \n",
       "10660            Net 30  \n",
       "2448             Net 30  \n",
       "7651             Net 30  \n",
       "10351            Net 30  \n",
       "\n",
       "[2001 rows x 9 columns]"
      ]
     },
     "execution_count": 379,
     "metadata": {},
     "output_type": "execute_result"
    }
   ],
   "source": [
    "#Subseting the Categorical Variables.\n",
    "categorical_variables = [\"Country\", \"Product\", \"Import_Export\", \"Category\", \"Port\", \"Shipping_Method\", \"Supplier\", \"Customer\", \"Payment_Terms\"\n",
    "\n",
    "]\n",
    "IE_categorical = IE_dataset[categorical_variables]\n",
    "IE_categorical"
   ]
  },
  {
   "cell_type": "code",
   "execution_count": 380,
   "id": "96dc5afb-3dfe-41b4-a7e1-6e47273bc6d8",
   "metadata": {},
   "outputs": [
    {
     "data": {
      "text/plain": [
       "Category\n",
       "Machinery      418\n",
       "Clothing       411\n",
       "Electronics    396\n",
       "Furniture      396\n",
       "Toys           380\n",
       "Name: count, dtype: int64"
      ]
     },
     "execution_count": 380,
     "metadata": {},
     "output_type": "execute_result"
    }
   ],
   "source": [
    "#Descriptive Statistics of Any 01 Categorical Variable.\n",
    "IE_dataset[\"Category\"].value_counts()"
   ]
  },
  {
   "cell_type": "markdown",
   "id": "e226e4ba-a4c2-460e-a64b-0c20bc68a34f",
   "metadata": {},
   "source": [
    "**Project Objectives | Problem Statements**\n",
    "\n",
    "* Objective 1: Identify key trends in import and export activities across different countries and product categories.\n",
    "* Objective 2: Understand the distribution of transaction values and quantities across various categories.\n",
    "* Objective 3: Analyze the most frequently used shipping methods and their relationship to transaction value and weight.\n",
    "* Objective 4:To examine the relationship between quantity and value of transactions to determine whether a correlation exists and to understand how    they influence each other.\n",
    "* objective 5: To detect and analyze outlier transactions that fall outside typical patterns, assessing their impact on overall trade performance and   exploring potential reasons for their occurrence.\n",
    "* objective 6: To segment the dataset by country, product type, or other relevant factors to uncover insights into specific market behaviors and tailor   strategies to different segments.\n",
    "* objective 7: To know patterns between the variances of non-categorical variables.\n",
    "* objective 8: To know the distribution \n",
    "  \n",
    "* Problem Statement 1: How do different countries vary in terms of the volume and value of imports and exports?\n",
    "* Problem Statement 2: Are there specific product categories that dominate in terms of trade volume and value?\n",
    "* Problem Statement 3: What are the most commonly used shipping methods for high-value transactions?\n",
    "* Problem Statement 4: The dataset contains multiple variables related to international trade transactions, making it challenging to extract meaningful                        insights without a structured analysis approach.\n",
    "* Problem Statement 5: There is a lack of clarity regarding the trends in transaction counts and values, making it difficult for stakeholders to                               identify growth opportunities and market dynamics.\n",
    "\n",
    "Unexplored Relationships: The potential correlation between quantity and value has not been thoroughly investigated, leaving gaps in understanding pricing strategies and their effectiveness."
   ]
  },
  {
   "cell_type": "markdown",
   "id": "de999e0e-a7e6-423f-b49d-f00c625747b4",
   "metadata": {},
   "source": [
    "## **1.Descriptive Statistics**"
   ]
  },
  {
   "cell_type": "markdown",
   "id": "eee787aa-11e6-4546-85dd-d41413cc6e55",
   "metadata": {},
   "source": [
    "**Measures of Central Tendency**"
   ]
  },
  {
   "cell_type": "code",
   "execution_count": 384,
   "id": "1ffadd3d-aa79-4de1-8324-9ba2261d688d",
   "metadata": {},
   "outputs": [
    {
     "name": "stdout",
     "output_type": "stream",
     "text": [
      "Mean:\n",
      " Quantity    4990.357821\n",
      "Value       5111.399190\n",
      "Weight      2527.380330\n",
      "dtype: float64\n",
      "Median:\n",
      " Quantity    5041.00\n",
      "Value       5138.37\n",
      "Weight      2502.45\n",
      "dtype: float64\n",
      "Mode:\n",
      "     Weight\n",
      "0   783.09\n",
      "1   814.83\n",
      "2  1634.73\n",
      "3  3112.01\n",
      "4  3322.29\n",
      "5  3556.38\n",
      "6  3755.67\n"
     ]
    }
   ],
   "source": [
    "# Mean, Median, Mode\n",
    "non_categorical_df_1 = non_categorical_df = IE_dataset[[\"Quantity\", \"Value\", \"Weight\"]] \n",
    "mean_values = non_categorical_df_1.mean()\n",
    "median_values = non_categorical_df_1.median()\n",
    "mode_values = IE_dataset[[\"Weight\"]].mode()\n",
    "\n",
    "print(\"Mean:\\n\", mean_values)\n",
    "print(\"Median:\\n\", median_values)\n",
    "print(\"Mode:\\n\", mode_values)"
   ]
  },
  {
   "cell_type": "markdown",
   "id": "0d80ec5e-c571-4799-8340-d1145e9dee1e",
   "metadata": {},
   "source": [
    "**Mean Interpretation:**\n",
    "Quantity (Mean: 4990.36): On average, the dataset shows that the quantity of goods involved in the transactions is approximately 4990.36 units.\n",
    "\n",
    "Value (Mean: 5111.40): The mean value of the goods in each transaction is around 5111.40, which suggests a general average transaction value across the dataset.\n",
    "\n",
    "Weight (Mean: 2527.38): The average weight of the goods in each transaction is approximately 2527.38 units, indicating the typical weight being handled per transaction.\n",
    "\n",
    "\n",
    "**Median Interpretation:**\n",
    "Quantity (Median: 5041.00): The median quantity is 5041 units, meaning that half of the transactions have a quantity below 5041 and the other half have a quantity above it. This indicates that most transactions revolve around this quantity.\n",
    "\n",
    "Value (Median: 5138.37): The median value is 5138.37, indicating that half of the transactions are valued below this amount, and half are above. Since the median and mean are quite close, the data may not have extreme outliers.\n",
    "\n",
    "Weight (Median: 2502.45): The median weight is 2502.45, meaning the central value of the dataset is around this number. Similar to the other variables, the mean and median are close, which suggests a fairly even distribution of data without major outliers.\n",
    "\n",
    "\n",
    " **Mode Interpretation:**\n",
    "Weight (Modes: 783.09, 814.83, 1634.73, 3112.01, 3322.29, 3556.38, 3755.67):  Since there are multiple modes for the weight, this suggests that the data is multimodal, meaning there are several common weights that appear repeatedly. These weights likely correspond to specific categories or shipment types that occur frequently.\n",
    "\n",
    "In summary, the mean and median for Quantity, Value, and Weight are relatively close, suggesting that the dataset is fairly balanced without significant outliers. However, the multiple modes in Weight indicate that some weights are more common than others, potentially reflecting different types of shipments or goods being traded at various weight levels."
   ]
  },
  {
   "cell_type": "markdown",
   "id": "7ce192f0-3996-4693-85c4-b8d9d5894dd5",
   "metadata": {},
   "source": [
    " **Measures of Dispersion**"
   ]
  },
  {
   "cell_type": "code",
   "execution_count": 387,
   "id": "d6ca541e-0f43-4b5e-9d4c-1fd974383c9f",
   "metadata": {},
   "outputs": [
    {
     "name": "stdout",
     "output_type": "stream",
     "text": [
      "Range:\n",
      " Quantity    9989.00\n",
      "Value       9889.89\n",
      "Weight      4992.43\n",
      "dtype: float64\n",
      "Standard Deviation:\n",
      " Quantity    2904.811911\n",
      "Value       2810.799035\n",
      "Weight      1431.790918\n",
      "dtype: float64\n",
      "Variance:\n",
      " Quantity    8.437932e+06\n",
      "Value       7.900591e+06\n",
      "Weight      2.050025e+06\n",
      "dtype: float64\n"
     ]
    }
   ],
   "source": [
    "# Range, Standard Deviation, Variance\n",
    "range_values = non_categorical_df.max() - non_categorical_df.min()\n",
    "std_dev_values = non_categorical_df.std()\n",
    "variance_values = non_categorical_df.var()\n",
    "\n",
    "print(\"Range:\\n\", range_values)\n",
    "print(\"Standard Deviation:\\n\", std_dev_values)\n",
    "print(\"Variance:\\n\", variance_values)"
   ]
  },
  {
   "cell_type": "markdown",
   "id": "62723cf1-0098-4bcb-b351-e86df63d29b5",
   "metadata": {},
   "source": [
    "**Range Interpretation:**\n",
    "Quantity (Range: 9989.00): The difference between the maximum and minimum quantities in the dataset is 9989 units, indicating a wide variation in the number of goods involved in each transaction.\n",
    "\n",
    "Value (Range: 9889.89): The range of values across transactions is 9889.89, which suggests significant variability in the monetary value of transactions.\n",
    "\n",
    "Weight (Range: 4992.43): The weight of goods ranges over 4992.43 units, showing that shipments can vary greatly in terms of how heavy they are.\n",
    "The range provides a quick overview of the spread in the data, but it doesn’t account for how the data is distributed between the extremes.\n",
    "\n",
    "**Standard Deviation Interpretation:**\n",
    "Quantity (Standard Deviation: 2904.81): The quantity of goods varies by about 2904.81 units from the mean. A large standard deviation relative to the mean indicates that there is considerable variation in the quantity of goods across transactions.\n",
    "\n",
    "Value (Standard Deviation: 2810.80): The standard deviation for transaction values is 2810.80, meaning that the value of goods in each transaction tends to deviate from the mean by this amount. Again, this indicates significant variability in transaction values.\n",
    "\n",
    "Weight (Standard Deviation: 1431.79): The weights of shipments tend to vary by about 1431.79 units from the mean. This suggests moderate variability in shipment weights, though less than the variability seen in quantity and value.\n",
    "\n",
    "**Variance Interpretation:**\n",
    "Quantity (Variance: 8.44e+06): The variance for quantity is 8.44 million, which is the square of the standard deviation. This large number reflects the wide range and significant variation in quantities across transactions.\n",
    "\n",
    "Value (Variance: 7.90e+06): The variance in the value of transactions is about 7.90 million. This again shows substantial variability in transaction values, aligned with the wide range observed.\n",
    "\n",
    "Weight (Variance: 2.05e+06): The variance for weight is 2.05 million. This lower variance compared to quantity and value indicates that the weights are less spread out across transactions than the other two variables."
   ]
  },
  {
   "cell_type": "markdown",
   "id": "9723277d-da4e-4998-9e25-55714d00671e",
   "metadata": {},
   "source": [
    " **Skewness and Kurtosis**"
   ]
  },
  {
   "cell_type": "code",
   "execution_count": 390,
   "id": "84923a91-dbb5-4536-8760-445921b42d19",
   "metadata": {},
   "outputs": [
    {
     "name": "stdout",
     "output_type": "stream",
     "text": [
      "Skewness:\n",
      " Quantity   -0.009151\n",
      "Value      -0.013549\n",
      "Weight      0.008892\n",
      "dtype: float64\n",
      "Kurtosis:\n",
      " Quantity   -1.194246\n",
      "Value      -1.156674\n",
      "Weight     -1.167836\n",
      "dtype: float64\n"
     ]
    }
   ],
   "source": [
    "# Skewness and Kurtosis\n",
    "skewness = non_categorical_df.skew()\n",
    "kurtosis = non_categorical_df.kurt()\n",
    "\n",
    "print(\"Skewness:\\n\", skewness)\n",
    "print(\"Kurtosis:\\n\", kurtosis)"
   ]
  },
  {
   "cell_type": "markdown",
   "id": "963800bd-5e5f-4f18-b971-8950d4587968",
   "metadata": {},
   "source": [
    "**Skewness Interpretation:**\n",
    "All three values are very close to zero, indicating that the distributions of Quantity, Value, and Weight are approximately symmetrical.\n",
    "\n",
    "Quantity and Value have very slight negative skewness, suggesting a very minor tendency for data to fall more frequently on the right side of the distribution.\n",
    "\n",
    "**Kurtosis Interpretation:**\n",
    "Weight has a very slight positive skewness, indicating a very minor tendency for data to fall more frequently on the left side of the distribution.\n",
    "\n",
    "All three values are negative, indicating that the distributions of Quantity, Value, and Weight have lighter tails and flatter peaks compared to a normal distribution.\n",
    "\n",
    "The negative kurtosis suggests that extreme values are less frequent, and the overall shape of the distribution is more flat-topped compared to the normal distribution."
   ]
  },
  {
   "cell_type": "markdown",
   "id": "eac68d14-8bd4-4eb6-9f12-02f41384d179",
   "metadata": {},
   "source": [
    "**Correlation between Non-Categorical Variables**"
   ]
  },
  {
   "cell_type": "code",
   "execution_count": 393,
   "id": "4d416be9-bfcd-43df-9c93-558bd55ae937",
   "metadata": {},
   "outputs": [
    {
     "name": "stdout",
     "output_type": "stream",
     "text": [
      "Correlation Matrix:\n",
      "           Quantity     Value    Weight\n",
      "Quantity  1.000000 -0.010103  0.021251\n",
      "Value    -0.010103  1.000000  0.044689\n",
      "Weight    0.021251  0.044689  1.000000\n"
     ]
    }
   ],
   "source": [
    "# Correlation Matrix\n",
    "correlation_matrix = non_categorical_df.corr()\n",
    "\n",
    "print(\"Correlation Matrix:\\n\", correlation_matrix)"
   ]
  },
  {
   "cell_type": "markdown",
   "id": "bafd0855-129a-4c05-bf00-599069c92e85",
   "metadata": {},
   "source": [
    "**Correlation Interpretation:**\n",
    "All the correlation values are close to zero, indicating weak or no linear relationships between the variables.\n",
    "Quantity, Value, and Weight behave independently, meaning that changes in one of these variables do not significantly affect the others.\n",
    "This lack of strong correlation could imply that the Quantity of goods being transacted, their Value, and their Weight are influenced by different factors in the dataset."
   ]
  },
  {
   "cell_type": "markdown",
   "id": "cb5d6134-d50b-4e68-8502-599eb3f03fec",
   "metadata": {},
   "source": [
    "# NON-CATEGORICAL DATA"
   ]
  },
  {
   "cell_type": "markdown",
   "id": "011429e6-8c01-48ac-a446-39e572431c7c",
   "metadata": {},
   "source": [
    "**COMPOSITE MEASURE**"
   ]
  },
  {
   "cell_type": "code",
   "execution_count": 397,
   "id": "9d2647f5-6acd-4dc6-a2fb-107b6fa850a8",
   "metadata": {},
   "outputs": [
    {
     "name": "stdout",
     "output_type": "stream",
     "text": [
      "Coefficient of variation for Quantity :  0.5820848955619151\n",
      "Coefficient of variation for Value :  0.5499079469313538\n",
      "Coefficient of variation for Weight :  0.5665118546254605\n"
     ]
    }
   ],
   "source": [
    "import statistics as stats\n",
    "\n",
    "# coefficient of quantity\n",
    "Coeff_Var_Quantity = stats.stdev(non_categorical_df['Quantity'])/stats.mean(non_categorical_df['Quantity'])\n",
    "print('Coefficient of variation for Quantity : ', Coeff_Var_Quantity)\n",
    "\n",
    "Coeff_Var_Value = stats.stdev(non_categorical_df['Value'])/stats.mean(non_categorical_df['Value'])\n",
    "print('Coefficient of variation for Value : ', Coeff_Var_Value)\n",
    "\n",
    "# coefficient of weight\n",
    "Coeff_Var_Weight = stats.stdev(non_categorical_df['Weight'])/stats.mean(non_categorical_df['Weight'])\n",
    "print('Coefficient of variation for Weight : ', Coeff_Var_Weight) "
   ]
  },
  {
   "cell_type": "markdown",
   "id": "d125249d-cc51-487f-ab47-56c6594fa7f4",
   "metadata": {},
   "source": [
    "Coefficient of variation tells us about how much the variability is present within the datadet,\n",
    "So here:\n",
    "\n",
    "**QUANTITY:**\n",
    "Quantities have variation of 0.5820848955619151\n",
    "This implies that  ->\n",
    "1. Quantities are spread out around the mean by approx 58.21% of the mean value.\n",
    "2. They are not to much clustered around the mean but have different quantities' ranges.\n",
    "\n",
    "**VALUE:**\n",
    "Values have variation of 0.5499079469313538\n",
    "This implies that ->\n",
    "1. Values are spread around the mean by approx 55% of the mean value.\n",
    "2. Different values for different transactions is present.\n",
    "\n",
    "**WEIGHT:**\n",
    "Weights have variation of 0.5665118546254605 among them\n",
    "This implies that ->\n",
    "1. Weights are spread around the mean by approx 56.65% of the mean value.\n",
    "2. Inconsistency in weights are here (which means different weights for different quantities are present)\n",
    "                                      "
   ]
  },
  {
   "cell_type": "code",
   "execution_count": 399,
   "id": "563187bc-9ca7-4eab-b834-d5ffd55f5f13",
   "metadata": {},
   "outputs": [
    {
     "data": {
      "text/plain": [
       "0.021251320200673485"
      ]
     },
     "execution_count": 399,
     "metadata": {},
     "output_type": "execute_result"
    }
   ],
   "source": [
    "# correlation between quantity and weight\n",
    "non_categorical_df['Quantity'].corr(non_categorical_df['Weight'])"
   ]
  },
  {
   "cell_type": "markdown",
   "id": "eb388e72-277b-4cb3-a5fc-03133334ed3a",
   "metadata": {},
   "source": [
    "**Correlation between Quantities and Weights**\n",
    "\n",
    "The correlation between the quantites and the weights is 0.021251320200673485 which indicates a weak correlation between the 2, and these can be 2 possible reasons for that:\n",
    "\n",
    "1. In a manufacturing setting, if you measure the weight of products and their quantities,\n",
    "a weak correlation might indicate that weight doesn’t scale linearly with quantity, \n",
    "possibly due to varying product types or sizes.\n",
    "\n",
    "2. For consumer goods where packaging varies, the quantity and weight might not have\n",
    "a strong linear relationship due to differences in packaging materials and sizes."
   ]
  },
  {
   "cell_type": "code",
   "execution_count": 401,
   "id": "e9dc4ba3-c6d1-4a87-a9bc-e9639fd46016",
   "metadata": {},
   "outputs": [
    {
     "data": {
      "text/plain": [
       "-0.010103204732376027"
      ]
     },
     "execution_count": 401,
     "metadata": {},
     "output_type": "execute_result"
    }
   ],
   "source": [
    "# correlation between quantity and Value\n",
    "non_categorical_df['Quantity'].corr(non_categorical_df['Value'])"
   ]
  },
  {
   "cell_type": "markdown",
   "id": "e8d18426-0fcd-4220-b68a-810fc6b39fb7",
   "metadata": {},
   "source": [
    "**Correlation between Quantity and Value**\n",
    "The correlation is very weak which tells the quantity is weakly correlated with the transcation value.\n",
    "This can happen due to the change in market trends, discounts given, customer demographics etc. reasons."
   ]
  },
  {
   "cell_type": "code",
   "execution_count": 403,
   "id": "8e53b94b-fe5f-4dd2-9a2e-060e460be7c4",
   "metadata": {},
   "outputs": [],
   "source": [
    "import numpy as np\n",
    "import scipy.stats as stats"
   ]
  },
  {
   "cell_type": "code",
   "execution_count": 404,
   "id": "cfd87f6d-f75e-4857-bcc6-c058354ea2df",
   "metadata": {},
   "outputs": [
    {
     "data": {
      "text/plain": [
       "(4863.005909682531, 5117.709732496381)"
      ]
     },
     "execution_count": 404,
     "metadata": {},
     "output_type": "execute_result"
    }
   ],
   "source": [
    "# calculation confidence interval for quantity\n",
    "\n",
    "mean = np.mean(non_categorical_df['Quantity'])\n",
    "std_error = stats.sem(non_categorical_df['Quantity'])\n",
    "\n",
    "confidence = 0.95 # 95% comfidence level\n",
    "margin_of_error = std_error * stats.t.ppf((1 + confidence) / 2., len(non_categorical_df['Quantity']) - 1)\n",
    "confidence_interval = (mean - margin_of_error, mean + margin_of_error)\n",
    "\n",
    "confidence_interval"
   ]
  },
  {
   "cell_type": "markdown",
   "id": "b2e8ad32-0556-4809-8355-3a81cafbf5e3",
   "metadata": {},
   "source": [
    "**confidnce interval of Quantity**\n",
    "This will tells us that the actual average quantity of transactions (including import and export, for the whole dataset) will lie in between (4863.005909682531, 5117.709732496381).\n"
   ]
  },
  {
   "cell_type": "code",
   "execution_count": 406,
   "id": "8bda1bb9-5058-496a-9c3e-cd04f78ebb69",
   "metadata": {},
   "outputs": [
    {
     "data": {
      "text/plain": [
       "(2464.6081725587, 2590.1524871114652)"
      ]
     },
     "execution_count": 406,
     "metadata": {},
     "output_type": "execute_result"
    }
   ],
   "source": [
    "# calculation confidence interval for Weights\n",
    "\n",
    "mean = np.mean(non_categorical_df['Weight'])\n",
    "std_error = stats.sem(non_categorical_df['Weight'])\n",
    "\n",
    "confidence = 0.95 # 95% comfidence level\n",
    "margin_of_error = std_error * stats.t.ppf((1 + confidence) / 2., len(non_categorical_df['Weight']) - 1)\n",
    "confidence_interval = (mean - margin_of_error, mean + margin_of_error)\n",
    "\n",
    "confidence_interval"
   ]
  },
  {
   "cell_type": "markdown",
   "id": "533395e1-79c8-48a6-b8f7-3a2629f17a71",
   "metadata": {},
   "source": [
    "**confidence interval of Weight**\n",
    "This will tells us that the actual average weight of transactions (including import and export, for the whole dataset) will lie in between (2464.6081725587, 2590.1524871114652)."
   ]
  },
  {
   "cell_type": "code",
   "execution_count": 408,
   "id": "1eef1f23-70b2-43e5-80e3-d718ae24eec2",
   "metadata": {},
   "outputs": [],
   "source": [
    "# <<---------- end of composite measure ------------>>"
   ]
  },
  {
   "cell_type": "markdown",
   "id": "0ad9957e-5eae-4564-a0d6-31408794e8ca",
   "metadata": {},
   "source": [
    "# INFERENTIAL STATISTICS"
   ]
  },
  {
   "cell_type": "markdown",
   "id": "f9a86f34-a17c-496b-a1ca-1e485a3c1e00",
   "metadata": {},
   "source": [
    "**TEST OF MEAN**"
   ]
  },
  {
   "cell_type": "markdown",
   "id": "c0c7e61f-65fe-482d-ab6b-bb733cef6316",
   "metadata": {},
   "source": [
    "**T - test**\n",
    " As the columns belongs to same dataset and are information about same entity we will\n",
    " perform paired T - test. "
   ]
  },
  {
   "cell_type": "code",
   "execution_count": 412,
   "id": "230f5a4a-6810-484d-a5fc-8dc6245209cd",
   "metadata": {},
   "outputs": [
    {
     "name": "stdout",
     "output_type": "stream",
     "text": [
      "T-Statistic, p_value and df:  TtestResult(statistic=34.31070867313326, pvalue=2.809692344366234e-203, df=2000)\n",
      "Signifiance difference between the means\n"
     ]
    }
   ],
   "source": [
    "# Test on Quantity and Weight\n",
    "t_stats1 = stats.ttest_rel(non_categorical_df['Quantity'], non_categorical_df['Weight'])\n",
    "print('T-Statistic, p_value and df: ', t_stats1)\n",
    "\n",
    "significance_level = 0.05\n",
    "\n",
    "if t_stats1.pvalue < significance_level:\n",
    "    print('Signifiance difference between the means')\n",
    "else:\n",
    "    print('No Signifiance difference between the means')"
   ]
  },
  {
   "cell_type": "code",
   "execution_count": 413,
   "id": "2b2de57e-c181-49b0-8215-fbb0dac51dc6",
   "metadata": {},
   "outputs": [
    {
     "name": "stdout",
     "output_type": "stream",
     "text": [
      "T-Statistic, p_value and df:  TtestResult(statistic=-1.3328131529700002, pvalue=0.18274494011625095, df=2000)\n",
      "No Signifiance difference between the means\n"
     ]
    }
   ],
   "source": [
    "# Test on Quantity and Value\n",
    "t_stats2 = stats.ttest_rel(non_categorical_df['Quantity'], non_categorical_df['Value'])\n",
    "print('T-Statistic, p_value and df: ', t_stats2)\n",
    "\n",
    "\n",
    "significance_level = 0.05\n",
    "\n",
    "if t_stats2.pvalue < significance_level:\n",
    "    print('Signifiance difference between the means')\n",
    "else:\n",
    "    print('No Signifiance difference between the means')"
   ]
  },
  {
   "cell_type": "code",
   "execution_count": 414,
   "id": "f24ca2bf-9205-45ec-8931-aad6bfec7d49",
   "metadata": {},
   "outputs": [
    {
     "name": "stdout",
     "output_type": "stream",
     "text": [
      "T-Statistic, p_value and df:  TtestResult(statistic=-37.32407683748938, pvalue=7.575400457517993e-232, df=2000)\n",
      "Signifiance difference between the means\n"
     ]
    }
   ],
   "source": [
    "# Test on Weight and Value\n",
    "t_stats3 = stats.ttest_rel(non_categorical_df['Weight'], non_categorical_df['Value'])\n",
    "print('T-Statistic, p_value and df: ', t_stats3)\n",
    "\n",
    "\n",
    "significance_level = 0.05\n",
    "\n",
    "if t_stats3.pvalue < significance_level:\n",
    "    print('Signifiance difference between the means')\n",
    "else:\n",
    "    print('No Signifiance difference between the means')"
   ]
  },
  {
   "cell_type": "code",
   "execution_count": 415,
   "id": "d2e4bc89-f088-401f-bd4c-a84df2287fd7",
   "metadata": {},
   "outputs": [],
   "source": [
    "# <<--------- end of test of Mean ------------->>"
   ]
  },
  {
   "cell_type": "code",
   "execution_count": null,
   "id": "17f64643-9553-40e5-a994-d769ff5fe17f",
   "metadata": {},
   "outputs": [],
   "source": []
  },
  {
   "cell_type": "markdown",
   "id": "168e8b64-03e9-4679-b6fd-a34b53965991",
   "metadata": {},
   "source": [
    "# Test of variance:\n",
    "\n",
    "1. **F - TEST - using test on quantity and weight**"
   ]
  },
  {
   "cell_type": "code",
   "execution_count": 417,
   "id": "def0982a-62d0-4971-b82d-c1763eac77da",
   "metadata": {},
   "outputs": [
    {
     "name": "stdout",
     "output_type": "stream",
     "text": [
      "Variance of Quantity :  8437932.238900054\n",
      "Variance of Weight :  2050025.2328637904\n",
      "p_value for 2 tail:  2.22e-16\n",
      "The variances are significantly different\n"
     ]
    }
   ],
   "source": [
    "var_Quantity = np.var(non_categorical_df['Quantity'], ddof = 1)\n",
    "var_Weight = np.var(non_categorical_df['Weight'], ddof = 1)\n",
    "\n",
    "print('Variance of Quantity : ', var_Quantity)\n",
    "print('Variance of Weight : ', var_Weight)\n",
    "\n",
    "F = var_Quantity / var_Weight\n",
    "\n",
    "dof1 = len(non_categorical_df['Quantity']) - 1\n",
    "dof2 = len(non_categorical_df['Weight']) - 1\n",
    "\n",
    "p_value = 1 - stats.f.cdf(F, dof1, dof2) # cdf = cumulative distribution function\n",
    "\n",
    "p_value_2T = np.round(p_value * 2, 18)\n",
    "print(\"p_value for 2 tail: \", p_value_2T)\n",
    "\n",
    "significance_level = 0.05\n",
    "\n",
    "if (p_value_2T < significance_level):\n",
    "    print(\"The variances are significantly different\")\n",
    "\n",
    "else:\n",
    "    print(\"The variances are not significantly different\")"
   ]
  },
  {
   "cell_type": "markdown",
   "id": "7266d9df-9ca6-43a9-8e30-3063f0d8385b",
   "metadata": {},
   "source": [
    "The cause of significantly different could be less variance of weight as comapre to quantity which also implies that weight is small spread around the mean as comapre to quantity.\n"
   ]
  },
  {
   "cell_type": "markdown",
   "id": "1a76051b-64e5-4f51-a43a-137143177e9d",
   "metadata": {},
   "source": [
    "2. **LEVENE TEST - using test on quantity and value**\n",
    "\n",
    "For this test lets assume that both entities have equal variance"
   ]
  },
  {
   "cell_type": "code",
   "execution_count": 420,
   "id": "d553dbef-aa90-4347-8b56-b62ba3d33eb0",
   "metadata": {},
   "outputs": [
    {
     "name": "stdout",
     "output_type": "stream",
     "text": [
      "levene's test stats:  2.4601734452470327\n",
      "p_value:  0.11684498556319156\n",
      "No significant difference between the variances\n"
     ]
    }
   ],
   "source": [
    "stat, p_value = stats.levene(non_categorical_df['Quantity'],non_categorical_df['Value'], center = 'median')\n",
    "print(\"levene's test stats: \", stat)\n",
    "print(\"p_value: \", p_value)\n",
    "\n",
    "significance_level = 0.05\n",
    "\n",
    "if p_value < significance_level:\n",
    "    print('Significant difference between the variances')\n",
    "\n",
    "else:\n",
    "    print('No significant difference between the variances')\n"
   ]
  },
  {
   "cell_type": "markdown",
   "id": "168e6a36-e324-4851-bf6a-6449f009f0de",
   "metadata": {},
   "source": [
    "3. **BARTLETT TEST - using on weight and value**"
   ]
  },
  {
   "cell_type": "code",
   "execution_count": 422,
   "id": "7e4b5b7e-9e0f-42d4-a29a-883f8f33efa8",
   "metadata": {},
   "outputs": [
    {
     "name": "stdout",
     "output_type": "stream",
     "text": [
      "Bartlett's Test Stats:  848.1578617382613\n",
      "P_Value:  1.8283174477099762e-186\n",
      "Significant difference between the variances\n"
     ]
    }
   ],
   "source": [
    "stat, p_value = stats.bartlett(non_categorical_df['Weight'], non_categorical_df['Value'])\n",
    "print(\"Bartlett's Test Stats: \", stat)\n",
    "print(\"P_Value: \", p_value)\n",
    "\n",
    "significance_level = 0.05\n",
    "\n",
    "if p_value < significance_level:\n",
    "    print('Significant difference between the variances')\n",
    "else:\n",
    "    print('No significant difference between the variances')"
   ]
  },
  {
   "cell_type": "markdown",
   "id": "4e3f5505-2f5a-452f-a926-ae55735930ed",
   "metadata": {},
   "source": [
    "**PERFORMING LEVENE AND BARTLETT TEST ON ALL QUANTITY, VALUE AND WEIGHT**"
   ]
  },
  {
   "cell_type": "code",
   "execution_count": 424,
   "id": "5358c066-acfa-4ad3-9a40-a35a9d85e47c",
   "metadata": {},
   "outputs": [
    {
     "name": "stdout",
     "output_type": "stream",
     "text": [
      "levene's test stats:  634.5529729950395\n",
      "p_value:  1.0250738038896146e-250\n",
      "Significant difference between the variances\n"
     ]
    }
   ],
   "source": [
    "stat, p_value = stats.levene(non_categorical_df['Quantity'],non_categorical_df['Value'],non_categorical_df['Weight'], center = 'median')\n",
    "print(\"levene's test stats: \", stat)\n",
    "print(\"p_value: \", p_value)\n",
    "\n",
    "significance_level = 0.05\n",
    "\n",
    "if p_value < significance_level:\n",
    "    print('Significant difference between the variances')\n",
    "\n",
    "else:\n",
    "    print('No significant difference between the variances')"
   ]
  },
  {
   "cell_type": "code",
   "execution_count": 425,
   "id": "f7b4015c-588e-4b63-aa74-af426c86a1d0",
   "metadata": {},
   "outputs": [
    {
     "name": "stdout",
     "output_type": "stream",
     "text": [
      "Bartlett's Test Stats:  1312.5117337283393\n",
      "P_Value:  9.810661790697743e-286\n",
      "Significant difference between the variances\n"
     ]
    }
   ],
   "source": [
    "stat, p_value = stats.bartlett(non_categorical_df['Weight'], non_categorical_df['Value'], non_categorical_df['Weight'])\n",
    "print(\"Bartlett's Test Stats: \", stat)\n",
    "print(\"P_Value: \", p_value)\n",
    "\n",
    "significance_level = 0.05\n",
    "\n",
    "if p_value < significance_level:\n",
    "    print('Significant difference between the variances')\n",
    "else:\n",
    "    print('No significant difference between the variances')"
   ]
  },
  {
   "cell_type": "code",
   "execution_count": 426,
   "id": "d6920cdf-c9cb-48d2-a063-dc82f43b8d56",
   "metadata": {},
   "outputs": [],
   "source": [
    "# <<------------------ end of test of Variance --------------->>"
   ]
  },
  {
   "cell_type": "markdown",
   "id": "047286c2-b773-4d00-a376-5ebb6045b729",
   "metadata": {},
   "source": [
    "# Test of PROPORTION"
   ]
  },
  {
   "cell_type": "markdown",
   "id": "f335025b-4c25-4a95-ae3f-f16986334789",
   "metadata": {},
   "source": [
    "**Z - TEST**\n",
    "\n",
    "1. QUANTITY - checking proportion of quantity between 0 to 2000"
   ]
  },
  {
   "cell_type": "code",
   "execution_count": 429,
   "id": "9b9fd3c9-fcd7-4f6c-b66f-b67053035c6d",
   "metadata": {},
   "outputs": [
    {
     "name": "stdout",
     "output_type": "stream",
     "text": [
      "Sample proporation:  407\n",
      "Sample size:  2001\n",
      "hypothesized proportion 500\n",
      "Z-stats:  (-5.099787427575581e-16+8.328584913015332j)\n",
      "p_value:  0.0\n",
      "hypothesized proportion is significantly different from the proportion quantity\n"
     ]
    }
   ],
   "source": [
    "Pro_Quantity = 0 # Sample proportion\n",
    "for i in range(len(non_categorical_df['Quantity'])):\n",
    "    n = non_categorical_df['Quantity'].iloc[i]\n",
    "    if (0 <= n <= 2000):\n",
    "        Pro_Quantity += 1\n",
    "    \n",
    "Size_Quantity = len(non_categorical_df['Quantity'])\n",
    "\n",
    "print('Sample proporation: ', Pro_Quantity)\n",
    "print('Sample size: ', Size_Quantity)\n",
    "\n",
    "hypothesize_proportion = 500  # Hypothesized quantity proportion\n",
    "\n",
    "print('hypothesized proportion', hypothesize_proportion)\n",
    "\n",
    "standard_error = (hypothesize_proportion * (1 - hypothesize_proportion) / Size_Quantity) ** 0.5\n",
    "\n",
    "z_stats = (Pro_Quantity - hypothesize_proportion) / standard_error\n",
    "\n",
    "p_value = 2 * (1 - stats.norm.cdf(abs(z_stats)))\n",
    "\n",
    "print('Z-stats: ', z_stats)\n",
    "print('p_value: ', p_value)\n",
    "\n",
    "significance_level = 0.05\n",
    "\n",
    "if p_value < significance_level:\n",
    "    print('hypothesized proportion is significantly different from the proportion quantity')\n",
    "else:\n",
    "    print('hypothesized proportion is not significantly different from the proportion quantity')\n",
    "    "
   ]
  },
  {
   "cell_type": "markdown",
   "id": "4d5abd3a-2f16-4775-a714-520f70f04c9a",
   "metadata": {},
   "source": [
    "2. **WEIGHT - checking proportion of weights between 4000 to 4300**"
   ]
  },
  {
   "cell_type": "code",
   "execution_count": 431,
   "id": "e04a44e2-298a-4789-85e5-1489c1c0c2b0",
   "metadata": {},
   "outputs": [
    {
     "name": "stdout",
     "output_type": "stream",
     "text": [
      "Sample proporation:  103\n",
      "Sample size:  2001\n",
      "hypothesized proportion 100\n",
      "Z-stats:  (8.258630919317594e-17-1.3487367827307555j)\n",
      "p_value:  0.17742152644181086\n",
      "hypothesized proportion is not significantly different from the proportion quantity\n"
     ]
    }
   ],
   "source": [
    "Pro_Weight = 0 # Sample proportion\n",
    "for i in range(len(non_categorical_df['Weight'])):\n",
    "    n = non_categorical_df['Weight'].iloc[i]\n",
    "    if (4000 <= n <= 4300):\n",
    "        Pro_Weight += 1\n",
    "    \n",
    "Size_Weight = len(non_categorical_df['Weight'])\n",
    "\n",
    "print('Sample proporation: ', Pro_Weight)\n",
    "print('Sample size: ', Size_Weight)\n",
    "\n",
    "hypothesize_proportion = 100  # Hypothesized quantity proportion\n",
    "\n",
    "print('hypothesized proportion', hypothesize_proportion)\n",
    "\n",
    "standard_error = (hypothesize_proportion * (1 - hypothesize_proportion) / Size_Weight) ** 0.5\n",
    "\n",
    "z_stats = (Pro_Weight - hypothesize_proportion) / standard_error\n",
    "\n",
    "p_value = 2 * (1 - stats.norm.cdf(abs(z_stats)))\n",
    "\n",
    "print('Z-stats: ', z_stats)\n",
    "print('p_value: ', p_value)\n",
    "\n",
    "significance_level = 0.05\n",
    "\n",
    "if p_value < significance_level:\n",
    "    print('hypothesized proportion is significantly different from the proportion quantity')\n",
    "else:\n",
    "    print('hypothesized proportion is not significantly different from the proportion quantity')\n",
    "    "
   ]
  },
  {
   "cell_type": "markdown",
   "id": "4a0dfc0e-d1cb-4f65-9e76-2a7fc1c1f7a1",
   "metadata": {},
   "source": [
    "3. **VALUE - checking proportion of weights between 2600 to 3000**"
   ]
  },
  {
   "cell_type": "code",
   "execution_count": 433,
   "id": "81505208-767a-489a-a6ec-ec94cb1b4446",
   "metadata": {},
   "outputs": [
    {
     "name": "stdout",
     "output_type": "stream",
     "text": [
      "Sample proporation:  78\n",
      "Sample size:  2001\n",
      "hypothesized proportion 50\n",
      "Z-stats:  (2.932899812546017e-15-47.89788883763083j)\n",
      "p_value:  0.0\n",
      "hypothesized proportion is significantly different from the proportion quantity\n"
     ]
    }
   ],
   "source": [
    "Pro_Value = 0 # Sample proportion\n",
    "for i in range(len(non_categorical_df['Value'])):\n",
    "    n = non_categorical_df['Value'].iloc[i]\n",
    "    if (2600 <= n <= 3000):\n",
    "        Pro_Value += 1\n",
    "    \n",
    "Size_Value = len(non_categorical_df['Value'])\n",
    "\n",
    "print('Sample proporation: ', Pro_Value)\n",
    "print('Sample size: ', Size_Value)\n",
    "\n",
    "hypothesize_proportion = 50  # Hypothesized quantity proportion\n",
    "\n",
    "print('hypothesized proportion', hypothesize_proportion)\n",
    "\n",
    "standard_error = (hypothesize_proportion * (1 - hypothesize_proportion) / Size_Value) ** 0.5\n",
    "\n",
    "z_stats = (Pro_Weight - hypothesize_proportion) / standard_error\n",
    "\n",
    "p_value = 2 * (1 - stats.norm.cdf(abs(z_stats)))\n",
    "\n",
    "print('Z-stats: ', z_stats)\n",
    "print('p_value: ', p_value)\n",
    "\n",
    "significance_level = 0.05\n",
    "\n",
    "if p_value < significance_level:\n",
    "    print('hypothesized proportion is significantly different from the proportion quantity')\n",
    "else:\n",
    "    print('hypothesized proportion is not significantly different from the proportion quantity')\n",
    "    "
   ]
  },
  {
   "cell_type": "markdown",
   "id": "99b4a9f0-fd24-4d24-84df-ab5bd8898ece",
   "metadata": {},
   "source": [
    "In the above 3 z-test for Quantities, Weights and Values we have assumed some hypothesized proportion and checked if the actual sample proportion matches to it or not.\n",
    "this help to check assuptions about the same.\n",
    "    "
   ]
  },
  {
   "cell_type": "markdown",
   "id": "4eb26507-4d02-4a5d-a4fa-78581ce094e5",
   "metadata": {},
   "source": [
    "# chi - sq test"
   ]
  },
  {
   "cell_type": "code",
   "execution_count": 436,
   "id": "04a33a32-4591-401b-86e8-f56b2d48e95f",
   "metadata": {},
   "outputs": [
    {
     "name": "stdout",
     "output_type": "stream",
     "text": [
      "chi_stats:  5630017.489476131\n",
      "p_value:  0.0\n",
      "Significant difference in proportions between the samples\n"
     ]
    }
   ],
   "source": [
    "data = np.array([[non_categorical_df['Quantity']],\n",
    "                [non_categorical_df['Weight']],\n",
    "                [non_categorical_df['Value']]])\n",
    "chi_stats, p_Value,_,_ = stats.chi2_contingency(data, correction = False)\n",
    "\n",
    "print('chi_stats: ', chi_stats)\n",
    "print('p_value: ', p_value)\n",
    "\n",
    "significance_level = 0.05\n",
    "\n",
    "if p_value < significance_level:\n",
    "    print(\"Significant difference in proportions between the samples\")\n",
    "\n",
    "else:\n",
    "    print(\"No significant difference in proportions between the samples\")"
   ]
  },
  {
   "cell_type": "code",
   "execution_count": null,
   "id": "0d762608-3355-4ee8-be1d-1cd7ed0f557b",
   "metadata": {},
   "outputs": [],
   "source": []
  },
  {
   "cell_type": "code",
   "execution_count": 437,
   "id": "184d4568-39ef-4167-9eb1-399c8fbc4b6c",
   "metadata": {},
   "outputs": [],
   "source": [
    "# <<---------- end of test of proportion ---------------->>"
   ]
  },
  {
   "cell_type": "markdown",
   "id": "032916b5-af03-40f5-8333-7898c47a9469",
   "metadata": {},
   "source": [
    "# TEST OF NORMALITY"
   ]
  },
  {
   "cell_type": "markdown",
   "id": "5ba10e34-eb5c-4539-b152-1e316a3eba25",
   "metadata": {},
   "source": [
    "**1. Shapiro-Wilk Test**"
   ]
  },
  {
   "cell_type": "code",
   "execution_count": 440,
   "id": "2a592aab-e4c7-4ac8-ba4f-a05490c7fe12",
   "metadata": {},
   "outputs": [
    {
     "name": "stdout",
     "output_type": "stream",
     "text": [
      "Shapiro-wilk Test for:  Quantity\n",
      "Test stats:  0.953900366503177  and p-value:  1.2185984417171848e-24\n",
      "Reject (sample does not appear to be normally distributed)\n",
      "\n",
      "\n",
      "Shapiro-wilk Test for:  Weight\n",
      "Test stats:  0.9574577130546944  and p-value:  9.740870789054783e-24\n",
      "Reject (sample does not appear to be normally distributed)\n",
      "\n",
      "\n",
      "Shapiro-wilk Test for:  Value\n",
      "Test stats:  0.9590412286104069  and p-value:  2.5630731545931338e-23\n",
      "Reject (sample does not appear to be normally distributed)\n"
     ]
    }
   ],
   "source": [
    "def shapiro_test(sample, name):\n",
    "    stat, p_value = stats.shapiro(sample)\n",
    "    print(\"Shapiro-wilk Test for: \", name)\n",
    "    print(\"Test stats: \", stat, \" and p-value: \", p_value)\n",
    "\n",
    "    significance_level = 0.05\n",
    "    if p_value > significance_level:\n",
    "        print(\"Fail to reject (sample is consistent with normality)\")\n",
    "    else:\n",
    "        print(\"Reject (sample does not appear to be normally distributed)\")\n",
    "\n",
    "\n",
    "shapiro_test(non_categorical_df['Quantity'], \"Quantity\")\n",
    "print(\"\\n\")\n",
    "shapiro_test(non_categorical_df['Weight'], \"Weight\")\n",
    "print(\"\\n\")\n",
    "shapiro_test(non_categorical_df['Value'], \"Value\")\n"
   ]
  },
  {
   "cell_type": "markdown",
   "id": "02f5c172-64a8-4667-b0be-cb5f6c10df52",
   "metadata": {},
   "source": [
    "From the upper results we can say that there is asymmetry in all the 3 samples.\n",
    "Maybe the samples follows any other distribution like exponential, log-normal or any other distribution.\n",
    "We should perform other tests of normality to get confirm results.\n"
   ]
  },
  {
   "cell_type": "markdown",
   "id": "1d3d44c7-dd0f-46dd-9c6c-b976a952e8db",
   "metadata": {},
   "source": [
    "**2. Kolmogorov-Smirnov Test**"
   ]
  },
  {
   "cell_type": "markdown",
   "id": "df762ed6-68f1-47fe-a043-5d43e39a187d",
   "metadata": {},
   "source": [
    "Now as the above test gives us the result that they do not belong to normal distribution, let's first check weather they are from same distribution or not."
   ]
  },
  {
   "cell_type": "code",
   "execution_count": 444,
   "id": "65af3ddc-1649-43de-acf6-5e93a4137837",
   "metadata": {},
   "outputs": [],
   "source": [
    "import numpy as np\n",
    "from scipy import stats"
   ]
  },
  {
   "cell_type": "code",
   "execution_count": 445,
   "id": "0357027c-8ef2-4f63-8671-97050d79ee8a",
   "metadata": {},
   "outputs": [
    {
     "name": "stdout",
     "output_type": "stream",
     "text": [
      "Quantity and Weight test stats:  0.5082458770614693 p-value:  1.140057164209882e-235\n",
      "Weight and Value test stats:  0.5157421289355323 p-value:  4.923275850528607e-243\n",
      "Value and Quantity test stats:  0.043478260869565216 p-value:  0.04551470276349036\n",
      "\n",
      "\n",
      "Quantity and Weight are from different distribution (rejected)\n",
      "\n",
      "\n",
      "Weight and Value are from different distribution (rejected)\n",
      "\n",
      "\n",
      "Value and Quantity are from different distribution (rejected)\n"
     ]
    }
   ],
   "source": [
    "# performing K-S test\n",
    "statQ_W, p_valueQ_W = stats.ks_2samp(non_categorical_df['Quantity'], non_categorical_df['Weight'])\n",
    "statW_V, p_valueW_V = stats.ks_2samp(non_categorical_df['Weight'], non_categorical_df['Value'])\n",
    "statV_Q, p_valueV_Q = stats.ks_2samp(non_categorical_df['Value'], non_categorical_df['Quantity'])\n",
    "\n",
    "print('Quantity and Weight test stats: ', statQ_W, 'p-value: ', p_valueQ_W)\n",
    "print('Weight and Value test stats: ', statW_V, 'p-value: ', p_valueW_V)\n",
    "print('Value and Quantity test stats: ', statV_Q, 'p-value: ', p_valueV_Q)\n",
    "\n",
    "significance_level = 0.05\n",
    "print('\\n')\n",
    "\n",
    "if p_valueQ_W > significance_level:\n",
    "    print(\"Quantity and Weight are from same distribution (fail to reject)\")\n",
    "else:\n",
    "    print(\"Quantity and Weight are from different distribution (rejected)\")\n",
    "\n",
    "print('\\n')\n",
    "\n",
    "if p_valueW_V > significance_level:\n",
    "    print(\"Weight and Value are from same distribution (fail to reject)\")\n",
    "else:\n",
    "    print(\"Weight and Value are from different distribution (rejected)\")\n",
    "\n",
    "print('\\n')\n",
    "\n",
    "if p_valueV_Q > significance_level:\n",
    "    print(\"Value and Quantity are from same distribution (fail to reject)\")\n",
    "else:\n",
    "    print(\"Value and Quantity are from different distribution (rejected)\")\n"
   ]
  },
  {
   "cell_type": "markdown",
   "id": "2a5c0c29-0d7f-49c9-8bfa-149c6d6b5adf",
   "metadata": {},
   "source": [
    "They all neither normally distributed nor belongs to same distribution"
   ]
  },
  {
   "cell_type": "code",
   "execution_count": 447,
   "id": "75796499-1fd1-4d61-9ab1-3a7710ee27cf",
   "metadata": {},
   "outputs": [
    {
     "data": {
      "image/png": "[encoded data removed]",
      "text/plain": [
       "<Figure size 640x480 with 1 Axes>"
      ]
     },
     "metadata": {},
     "output_type": "display_data"
    }
   ],
   "source": [
    "import matplotlib.pyplot as plt\n",
    "import seaborn as sns\n",
    "import numpy as np\n",
    "\n",
    "sns.histplot(non_categorical_df['Quantity'], kde = True, color = 'green')\n",
    "plt.title('Distribution with Density Curve', fontsize=15)\n",
    "plt.xlabel('Data Values')\n",
    "plt.ylabel('Frequency')\n",
    "\n",
    "# Show the plot\n",
    "plt.show()"
   ]
  },
  {
   "cell_type": "code",
   "execution_count": 448,
   "id": "4c28d7ea-0156-4472-8388-acf38c8a1934",
   "metadata": {},
   "outputs": [
    {
     "data": {
      "image/png": "[encoded data removed]",
      "text/plain": [
       "<Figure size 640x480 with 1 Axes>"
      ]
     },
     "metadata": {},
     "output_type": "display_data"
    }
   ],
   "source": [
    "sns.histplot(non_categorical_df['Weight'], kde = True, color = 'pink')\n",
    "plt.title('Distribution with Density Curve', fontsize=15)\n",
    "plt.xlabel('Data Values')\n",
    "plt.ylabel('Frequency')\n",
    "\n",
    "# Show the plot\n",
    "plt.show()"
   ]
  },
  {
   "cell_type": "code",
   "execution_count": 449,
   "id": "729a1092-4540-4e2c-bba5-0cc234907dee",
   "metadata": {},
   "outputs": [
    {
     "data": {
      "image/png": "[encoded data removed]",
      "text/plain": [
       "<Figure size 640x480 with 1 Axes>"
      ]
     },
     "metadata": {},
     "output_type": "display_data"
    }
   ],
   "source": [
    "sns.histplot(non_categorical_df['Value'], kde = True, color = 'blue')\n",
    "plt.title('Distribution with Density Curve', fontsize=15)\n",
    "plt.xlabel('Data Values')\n",
    "plt.ylabel('Frequency')\n",
    "\n",
    "# Show the plot\n",
    "plt.show()"
   ]
  },
  {
   "cell_type": "markdown",
   "id": "498d35f0-8356-4fa7-a3df-9cb037e045b9",
   "metadata": {},
   "source": [
    "**Distribution graphs analysis: All 3 graphs for Quantity, Weights and Values are CLOSLEY EQUAL TO UNIFORM DISTRIBUTION**"
   ]
  },
  {
   "cell_type": "markdown",
   "id": "7f302b4b-29a1-4659-b55a-4fc5f3bcf994",
   "metadata": {},
   "source": [
    "## **2.Categorical Data Analysis**"
   ]
  },
  {
   "cell_type": "markdown",
   "id": "d9be72fd-56b4-4abd-b4eb-9e3ac8721cba",
   "metadata": {},
   "source": [
    "**Frequency Distribution for Categorical Data (e.g., Country, Product, Shipping_Method)**"
   ]
  },
  {
   "cell_type": "code",
   "execution_count": 453,
   "id": "ee980fda-d78c-422e-a9ad-526af8988242",
   "metadata": {},
   "outputs": [
    {
     "name": "stdout",
     "output_type": "stream",
     "text": [
      "Frequency of Country:\n",
      " Country\n",
      "Sweden                                          23\n",
      "Congo                                           19\n",
      "Uzbekistan                                      17\n",
      "Austria                                         17\n",
      "Albania                                         16\n",
      "                                                ..\n",
      "Liechtenstein                                    3\n",
      "Bahrain                                          3\n",
      "United States of America                         3\n",
      "South Georgia and the South Sandwich Islands     3\n",
      "Monaco                                           2\n",
      "Name: count, Length: 243, dtype: int64 \n",
      "\n",
      "Frequency of Product:\n",
      " Product\n",
      "green      7\n",
      "car        7\n",
      "card       7\n",
      "hand       6\n",
      "how        6\n",
      "          ..\n",
      "exactly    1\n",
      "three      1\n",
      "owner      1\n",
      "join       1\n",
      "memory     1\n",
      "Name: count, Length: 864, dtype: int64 \n",
      "\n",
      "Frequency of Shipping_Method:\n",
      " Shipping_Method\n",
      "Air     692\n",
      "Land    656\n",
      "Sea     653\n",
      "Name: count, dtype: int64 \n",
      "\n",
      "Frequency of Import_Export:\n",
      " Import_Export\n",
      "Export    1009\n",
      "Import     992\n",
      "Name: count, dtype: int64 \n",
      "\n",
      "Frequency of Payment_Terms:\n",
      " Payment_Terms\n",
      "Cash on Delivery    507\n",
      "Prepaid             503\n",
      "Net 30              497\n",
      "Net 60              494\n",
      "Name: count, dtype: int64 \n",
      "\n"
     ]
    }
   ],
   "source": [
    "# Frequency counts for categorical columns\n",
    "category_columns = ['Country', 'Product', 'Shipping_Method','Import_Export' , \"Payment_Terms\"]\n",
    "for col in category_columns:\n",
    "    print(f\"Frequency of {col}:\\n\", IE_dataset[col].value_counts(), \"\\n\")"
   ]
  },
  {
   "cell_type": "markdown",
   "id": "5643fbb8-db55-4974-8025-42054547a1ac",
   "metadata": {},
   "source": [
    " **Frequency of Country:**\n",
    "Top Countries: Sweden (23), Congo (19), Uzbekistan (17), Austria (17), and Albania (16) are the most frequent countries in the dataset.\n",
    "\n",
    "Least Frequent Countries: Some countries like Monaco (2), South Georgia and the South Sandwich Islands (3), Liechtenstein (3), and Bahrain (3) appear infrequently.\n",
    "\n",
    "**Frequency of Product:**\n",
    "Top Products: Products like green, car, and card appear most frequently (7 occurrences each).\n",
    "\n",
    "Rare Products: Products like exactly, three, owner, join, and memory are rare, appearing only once.\n",
    "\n",
    "With 864 unique products, this indicates a broad variety of products, but a few seem to dominate.\n",
    "\n",
    "**Frequency of Shipping Method:**\n",
    "Air (692): Air shipping is the most common method.\n",
    "\n",
    "Land (656) and Sea (653) follow closely behind.\n",
    "\n",
    "This nearly even distribution of shipping methods suggests flexibility in shipping based on product or location requirements.\n",
    "\n",
    "**Frequency of Import/Export:**\n",
    "Export (1009): Slightly more transactions are exports than imports.\n",
    "\n",
    "Import (992): The number of import transactions is almost equal to exports.\n",
    "\n",
    "This balance indicates that the dataset contains a nearly equal mix of import and export transactions.\n",
    "\n",
    "**Frequency of Payment Terms:**\n",
    "Cash on Delivery (507): The most common payment term is Cash on Delivery.\n",
    "\n",
    "Prepaid (503), Net 30 (497), and Net 60 (494) follow closely.\n",
    "\n",
    "The distribution of payment terms suggests that multiple methods are nearly equally preferred, with no dominant term."
   ]
  },
  {
   "cell_type": "markdown",
   "id": "1c09954a-3295-41bd-b031-67beb034935a",
   "metadata": {},
   "source": [
    "**Cross-Tabulation ( Country vs Import_Export)**"
   ]
  },
  {
   "cell_type": "code",
   "execution_count": 456,
   "id": "a0019550-22b4-4664-9cee-c231948ea552",
   "metadata": {},
   "outputs": [
    {
     "name": "stdout",
     "output_type": "stream",
     "text": [
      "Cross-tabulation of Country vs Import/Export:\n",
      " Import_Export   Export  Import\n",
      "Country                       \n",
      "Afghanistan          3       1\n",
      "Albania             11       5\n",
      "Algeria              8       5\n",
      "American Samoa       5       4\n",
      "Andorra              2       4\n"
     ]
    }
   ],
   "source": [
    "# Cross-tabulation of categorical variables\n",
    "country_vs_import_export = pd.crosstab(IE_dataset['Country'], IE_dataset['Import_Export']).head()\n",
    "\n",
    "print(\"Cross-tabulation of Country vs Import/Export:\\n\", country_vs_import_export)"
   ]
  },
  {
   "cell_type": "markdown",
   "id": "de35bd1e-68df-40de-b16f-8fad0cbd6385",
   "metadata": {},
   "source": [
    "**Top 5 Countries in Import/Export:**\n",
    "The cross-tabulation shows how different countries engage in trade. While Afghanistan, Albania, and Algeria lean more toward exports, Andorra primarily focuses on imports. American Samoa shows a balanced trade pattern."
   ]
  },
  {
   "cell_type": "markdown",
   "id": "ff3c12ae-1c39-46c1-bb95-51fc030d3aa3",
   "metadata": {},
   "source": [
    "**Cross-tabulation of Shipping_Method and Import_Export**"
   ]
  },
  {
   "cell_type": "code",
   "execution_count": 459,
   "id": "e2d2b270-66e4-471c-b945-803341ddae4e",
   "metadata": {},
   "outputs": [
    {
     "name": "stdout",
     "output_type": "stream",
     "text": [
      "Import_Export    Export  Import\n",
      "Shipping_Method                \n",
      "Air                 327     365\n",
      "Land                322     334\n",
      "Sea                 360     293\n"
     ]
    }
   ],
   "source": [
    "# Cross-tabulation between Shipping Method and Import/Export\n",
    "shipping_import_export_ct = pd.crosstab(IE_dataset['Shipping_Method'], IE_dataset['Import_Export'])\n",
    "\n",
    "print(shipping_import_export_ct)"
   ]
  },
  {
   "cell_type": "markdown",
   "id": "9eee7587-2ab5-4e35-95bf-66fa1b586086",
   "metadata": {},
   "source": [
    "Sea shipping is predominantly used for exports, while air and land shipping have a slight bias towards imports.\n",
    "The overall distribution across shipping methods seems balanced, with no significant skew towards imports or exports in any method, but sea stands out as the preferred option for exports."
   ]
  },
  {
   "cell_type": "markdown",
   "id": "e1fff7f5-98e9-4b49-b453-775b60f55e99",
   "metadata": {},
   "source": [
    "**Group by Product and calculate average Value**"
   ]
  },
  {
   "cell_type": "code",
   "execution_count": 462,
   "id": "acc24c36-f91e-4e3f-a6ab-1c2a53179e95",
   "metadata": {},
   "outputs": [
    {
     "name": "stdout",
     "output_type": "stream",
     "text": [
      "Product\n",
      "require      9989.95\n",
      "home         9944.05\n",
      "different    9926.11\n",
      "dinner       9908.82\n",
      "various      9891.46\n",
      "Name: Value, dtype: float64\n"
     ]
    }
   ],
   "source": [
    "# Group by Product and calculate average Value\n",
    "product_insights = IE_dataset.groupby('Product')['Value'].mean()\n",
    "\n",
    "# Sort to get insights (e.g., top products by average value)\n",
    "product_insights_sorted = product_insights.sort_values(ascending=False)\n",
    "\n",
    "print(product_insights_sorted.head())  # Display top products"
   ]
  },
  {
   "cell_type": "markdown",
   "id": "6c610158-4a6b-4c4f-83ee-8f090fe8c157",
   "metadata": {},
   "source": [
    "High Average Value: All the top products have very high average values, ranging from approximately $9,891 to $9,989. This indicates that these products are generally associated with high-value transactions.\n",
    "\n",
    "Product Value: These products might be premium items or have high-value transactions associated with them. This could be due to their high price points, large quantities, or other factors.\n",
    "\n",
    "Market Focus: The consistently high average value across these products might suggest that the target market for these items values quality or luxury, or that they are expensive by nature."
   ]
  },
  {
   "cell_type": "markdown",
   "id": "45124516-9eb1-4018-aa89-d25a94fd3b6d",
   "metadata": {},
   "source": [
    "**Group by Country and calculate total Value and Quantity**"
   ]
  },
  {
   "cell_type": "code",
   "execution_count": 465,
   "id": "8c5fcf51-a309-4a29-a7cc-65a000a07318",
   "metadata": {},
   "outputs": [
    {
     "name": "stdout",
     "output_type": "stream",
     "text": [
      "                Value  Quantity\n",
      "Country                        \n",
      "Sweden      117375.07    137537\n",
      "Albania     104335.18     62448\n",
      "Uzbekistan   93770.22     89616\n",
      "Congo        93137.80     84142\n",
      "Canada       89198.71     88913\n"
     ]
    }
   ],
   "source": [
    "# Group by Country and calculate total Value and Quantity\n",
    "country_insights = IE_dataset.groupby('Country').agg({'Value': 'sum', 'Quantity': 'sum'})\n",
    "\n",
    "# Sort values to get insights (e.g., top countries by total value)\n",
    "country_insights_sorted = country_insights.sort_values(by='Value', ascending=False)\n",
    "\n",
    "print(country_insights_sorted.head())  # Display top countries"
   ]
  },
  {
   "cell_type": "markdown",
   "id": "3d3dbc39-39e4-49c7-98b8-2a521a8f9a7e",
   "metadata": {},
   "source": [
    "Sweden stands out with the highest total value, indicating it is a major market for high-value transactions. This could be due to larger purchase volumes or higher prices per unit.\n",
    "Despite having the highest total value, Sweden does not have the highest quantity. This implies that the high value is likely due to higher unit prices or larger transaction sizes rather than just high volume.\n",
    "\n",
    "Sweden might be a key focus for high-value products or premium markets.\n",
    "\n",
    "Markets like Albania and Uzbekistan could be targeted for growth strategies, possibly due to lower quantities but significant value.\n",
    "\n",
    "Canada and Congo show strong performance and might be strategic markets to maintain or expand."
   ]
  },
  {
   "cell_type": "markdown",
   "id": "b889f3a9-7ac5-4442-8790-4e8b0adc475a",
   "metadata": {},
   "source": [
    "**Calculate the proportion of each Shipping Method**"
   ]
  },
  {
   "cell_type": "code",
   "execution_count": 468,
   "id": "aab83e17-4619-4f70-8199-7477fe71d1b6",
   "metadata": {},
   "outputs": [
    {
     "name": "stdout",
     "output_type": "stream",
     "text": [
      "Shipping_Method\n",
      "Air     0.345827\n",
      "Land    0.327836\n",
      "Sea     0.326337\n",
      "Name: proportion, dtype: float64\n"
     ]
    }
   ],
   "source": [
    "# Calculate the proportion of each Shipping Method\n",
    "shipping_method_proportion = IE_dataset['Shipping_Method'].value_counts(normalize=True)\n",
    "\n",
    "print(shipping_method_proportion)  # Display the proportion of each shipping method"
   ]
  },
  {
   "cell_type": "markdown",
   "id": "ec085615-b163-481b-842e-7df689125561",
   "metadata": {},
   "source": [
    "Air shipping's higher proportion reflects a focus on speed, which may be crucial for time-sensitive or high-value shipments.\n",
    "Land and Sea methods are typically more cost-effective and might be used for larger volumes or less urgent deliveries."
   ]
  },
  {
   "cell_type": "markdown",
   "id": "111d7b8b-287d-4c2c-8739-53ad10172cf8",
   "metadata": {},
   "source": [
    "**Calculate the proportion of Import vs Export**"
   ]
  },
  {
   "cell_type": "code",
   "execution_count": 471,
   "id": "8aa1a273-9841-4b1a-8cdb-e868bb151e44",
   "metadata": {},
   "outputs": [
    {
     "name": "stdout",
     "output_type": "stream",
     "text": [
      "Import_Export\n",
      "Export    0.504248\n",
      "Import    0.495752\n",
      "Name: proportion, dtype: float64\n"
     ]
    }
   ],
   "source": [
    "# Calculate the proportion of Import vs Export\n",
    "import_export_proportion = IE_dataset['Import_Export'].value_counts(normalize=True)\n",
    "\n",
    "print(import_export_proportion)  # Display the proportion of Import/Export"
   ]
  },
  {
   "cell_type": "markdown",
   "id": "3a0ec867-1aab-41a1-9685-cb928421d813",
   "metadata": {},
   "source": [
    "**Group by Country and Shipping_Method**"
   ]
  },
  {
   "cell_type": "code",
   "execution_count": 473,
   "id": "3096fe2d-81de-4a93-9d79-e536b1b4aa71",
   "metadata": {},
   "outputs": [
    {
     "name": "stdout",
     "output_type": "stream",
     "text": [
      "Country  Shipping_Method\n",
      "Albania  Sea                62863.30\n",
      "Sweden   Air                58824.40\n",
      "Ghana    Air                57567.17\n",
      "Sweden   Land               51950.04\n",
      "Hungary  Land               50288.98\n",
      "Name: Value, dtype: float64\n"
     ]
    }
   ],
   "source": [
    "# Group by Country and Shipping Method, and calculate the total Value\n",
    "country_shipping_insights = IE_dataset.groupby(['Country', 'Shipping_Method'])['Value'].sum()\n",
    "\n",
    "# Sort to see the top combinations\n",
    "country_shipping_sorted = country_shipping_insights.sort_values(ascending=False)\n",
    "\n",
    "print(country_shipping_sorted.head())  # Display the top combinations\n"
   ]
  },
  {
   "cell_type": "markdown",
   "id": "f7a361c5-b8eb-479b-8375-cb0252487ba6",
   "metadata": {},
   "source": [
    "The high values for air shipping in Sweden and Ghana suggest that speed is a critical factor for shipments in these regions, justifying the higher cost associated with air transport.\n",
    "Conversely, the substantial values for sea and land shipping in Albania and Hungary suggest these methods are preferred for their cost-effectiveness or logistical advantages."
   ]
  },
  {
   "cell_type": "markdown",
   "id": "775b7f87-601c-4222-8479-b4f7a08ca487",
   "metadata": {},
   "source": [
    "**Frequency of each port**"
   ]
  },
  {
   "cell_type": "code",
   "execution_count": 476,
   "id": "9b9c6574-ce0d-4b12-b7f4-2eace3829bc2",
   "metadata": {},
   "outputs": [
    {
     "name": "stdout",
     "output_type": "stream",
     "text": [
      "Port\n",
      "Christophermouth    4\n",
      "Smithbury           4\n",
      "Michaelmouth        4\n",
      "East Lisa           4\n",
      "West David          4\n",
      "Name: count, dtype: int64\n"
     ]
    }
   ],
   "source": [
    "# Count the frequency of each Port\n",
    "port_frequency = IE_dataset['Port'].value_counts()\n",
    "\n",
    "print(port_frequency.head())  # Display the top 5 most frequent ports"
   ]
  },
  {
   "cell_type": "markdown",
   "id": "25869d61-e1bd-4565-8a08-0cbf11002011",
   "metadata": {},
   "source": [
    "The equal count indicates a balanced distribution of activity among these ports. No single port dominates in terms of the number of records or transactions in this context.\n"
   ]
  },
  {
   "cell_type": "markdown",
   "id": "19eba18a-3d60-4aac-98ef-96deafb4d739",
   "metadata": {},
   "source": [
    "# Inferential statistics"
   ]
  },
  {
   "cell_type": "code",
   "execution_count": 479,
   "id": "dd2516ac-ec29-4909-9c8b-d554ec03df8e",
   "metadata": {},
   "outputs": [
    {
     "name": "stdout",
     "output_type": "stream",
     "text": [
      "t-statistic: 0.17535834944986103\n",
      "p-value: 0.8608158257150572\n"
     ]
    }
   ],
   "source": [
    "from scipy import stats\n",
    "\n",
    "# Subsetting data for imports and exports\n",
    "import_data = IE_dataset[IE_dataset['Import_Export'] == 'Import']['Value']\n",
    "export_data = IE_dataset[IE_dataset['Import_Export'] == 'Export']['Value']\n",
    "\n",
    "# t-test to compare means of import vs export values\n",
    "t_stat, p_value = stats.ttest_ind(import_data, export_data)\n",
    "\n",
    "print(\"t-statistic:\", t_stat)\n",
    "print(\"p-value:\", p_value)"
   ]
  },
  {
   "cell_type": "markdown",
   "id": "e5eb354b-6e39-4742-b4ad-ac0d04323e55",
   "metadata": {},
   "source": [
    "**Chi-Square Test for Categorical Variables ( Country vs Import_Export)**"
   ]
  },
  {
   "cell_type": "code",
   "execution_count": 481,
   "id": "9fe0143b-d73a-4e4b-a4c3-58f432222751",
   "metadata": {},
   "outputs": [
    {
     "name": "stdout",
     "output_type": "stream",
     "text": [
      "Chi-squared Statistic: 252.46240362314646\n",
      "p-value: 0.3088616384950574\n"
     ]
    }
   ],
   "source": [
    "# Chi-squared test of independence between Country and Import_Export\n",
    "contingency_table = pd.crosstab(IE_dataset['Country'], IE_dataset['Import_Export'])\n",
    "chi2_stat, p_val, dof, ex = stats.chi2_contingency(contingency_table)\n",
    "\n",
    "print(\"Chi-squared Statistic:\", chi2_stat)\n",
    "print(\"p-value:\", p_val)"
   ]
  },
  {
   "cell_type": "markdown",
   "id": "63e0a70a-a3e2-4aed-b799-5634b6609799",
   "metadata": {},
   "source": [
    "Chi-squared Statistic: 252.46:\n",
    "\n",
    "This value represents the overall difference between the observed and expected frequencies of Country and Import/Export. However, it is primarily used in combination with the p-value to determine significance.\n",
    "p-value: 0.309:\n",
    "\n",
    "Since the p-value (0.309) is greater than 0.05, we fail to reject the null hypothesis.\n",
    "\n",
    "Conclusion:\n",
    "\n",
    "There is no significant relationship between Country and Import/Export activities.\n",
    "This means the distribution of imports and exports does not vary significantly by country in the dataset. In other words, countries tend to have a similar proportion of imports and exports, and the trade activities are independent of the country.\n",
    "So, in this case, the Country and Import/Export variables are statistically independent of each other."
   ]
  },
  {
   "cell_type": "markdown",
   "id": "8c9a77f8-c547-4f05-99e0-adc28d573fbd",
   "metadata": {},
   "source": [
    "**ANOVA (Compare Value Across Different Product Categories)**"
   ]
  },
  {
   "cell_type": "code",
   "execution_count": 484,
   "id": "07aa6505-81aa-41b7-adcd-da06b6c4a3e7",
   "metadata": {},
   "outputs": [
    {
     "name": "stdout",
     "output_type": "stream",
     "text": [
      "ANOVA F-statistic: 0.9891133619336724\n",
      "p-value: 0.5668822737408232\n"
     ]
    }
   ],
   "source": [
    "product_groups = [group['Value'].values for name, group in IE_dataset.groupby('Product')]\n",
    "\n",
    "f_stat, p_value = stats.f_oneway(*product_groups)\n",
    "\n",
    "print(\"ANOVA F-statistic:\", f_stat)\n",
    "print(\"p-value:\", p_value)"
   ]
  },
  {
   "cell_type": "markdown",
   "id": "dfc56756-85d7-43f8-8211-ddce0804d500",
   "metadata": {},
   "source": [
    "F-statistic: 0.989:\n",
    "\n",
    "The F-statistic represents the ratio of the variance between the product groups to the variance within the product groups.\n",
    "A low F-statistic (0.989) suggests that the differences in the mean Value between product groups are small compared to the variation within each product group.\n",
    "\n",
    "p-value: 0.567:\n",
    "\n",
    "Since the p-value (0.567) is greater than the significance level (typically 0.05), we fail to reject the null hypothesis.\n",
    "\n",
    "Conclusion:\n",
    "\n",
    "There is no significant difference in the mean Value across the different Product groups.\n",
    "This means that, based on the sample, the average value associated with different products does not vary significantly. Any differences observed in the mean values between product groups are likely due to random variation rather than a true effect of the product category.\n",
    "Thus, Product does not appear to be a determining factor in influencing the Value in this dataset."
   ]
  },
  {
   "cell_type": "markdown",
   "id": "893dd7a9-bf0f-464e-a51b-1e0ff206a009",
   "metadata": {},
   "source": [
    "# REGRESSION"
   ]
  },
  {
   "cell_type": "markdown",
   "id": "ad8f0ad5-aabe-47b0-944f-7f49e2fc0f12",
   "metadata": {},
   "source": [
    "Now we will predicte the price of transcation using the product's weight and quantity, and then compare it with the actual price value and check whether the price is thoroughly dependent on weights and quantity only or other variables also impact it.\n"
   ]
  },
  {
   "cell_type": "code",
   "execution_count": 488,
   "id": "df905c2d-1a55-4d88-877c-f56cc4ce9ecd",
   "metadata": {},
   "outputs": [
    {
     "name": "stdout",
     "output_type": "stream",
     "text": [
      "Mean Squared Error: 8027507.288016774\n",
      "Predicted price: [5330.07113744 5313.99835614 5332.48065449 ... 5327.68661562 5044.24483108\n",
      " 5182.44015218]\n"
     ]
    }
   ],
   "source": [
    "import pandas as pd\n",
    "from sklearn.model_selection import train_test_split\n",
    "from sklearn.preprocessing import LabelEncoder\n",
    "from sklearn.linear_model import LinearRegression\n",
    "from sklearn.metrics import mean_squared_error\n",
    "\n",
    "# Assuming IE_dataset is already loaded\n",
    "\n",
    "# Create a new feature\n",
    "Weight_per_item = IE_dataset['Weight'] / IE_dataset['Quantity']\n",
    "\n",
    "# Define X and Y\n",
    "X = IE_dataset[['Weight', 'Quantity']]\n",
    "Y = IE_dataset['Value']\n",
    "\n",
    "# Split the data into training and testing sets\n",
    "X_train, X_test, Y_train, Y_test = train_test_split(X, Y, test_size=0.2, random_state=42)\n",
    "\n",
    "# Create and train the model\n",
    "model = LinearRegression()\n",
    "model.fit(X_train, Y_train)\n",
    "\n",
    "# Make predictions\n",
    "Y_pred = model.predict(X_test)\n",
    "\n",
    "# Calculate mean squared error\n",
    "mse = mean_squared_error(Y_test, Y_pred)\n",
    "print(\"Mean Squared Error:\", mse)\n",
    "\n",
    "# Load new data from a CSV file (ensure 'New.csv' has the same structure as X_train)\n",
    "new_data = pd.read_csv(r\"C:\\Users\\ishud\\Downloads\\weights and quantity.csv\")\n",
    "\n",
    "# Predict the value for the new data\n",
    "predicted_price = model.predict(new_data)\n",
    "print(\"Predicted price:\", predicted_price)\n",
    "\n",
    "import pandas as pd\n",
    "CSV = pd.DataFrame({\n",
    "    \"Prediction\": predicted_price\n",
    "})\n",
    "\n",
    "CSV.to_csv(r\"C:\\Users\\ishud\\Downloads\\New.csv\", index=False)"
   ]
  },
  {
   "cell_type": "markdown",
   "id": "6d52bc82-de40-4db7-af3b-c08734a1aa33",
   "metadata": {},
   "source": [
    "**comparing both**"
   ]
  },
  {
   "cell_type": "code",
   "execution_count": 490,
   "id": "c7cbbfad-9a99-4d16-b843-ad1f9ea5e464",
   "metadata": {},
   "outputs": [
    {
     "name": "stdout",
     "output_type": "stream",
     "text": [
      "Predicted prices mean:  5147.5747763456875\n",
      "Actual prices mean:  5111.399190404798\n"
     ]
    }
   ],
   "source": [
    "print(\"Predicted prices mean: \", predicted_price.mean())\n",
    "print(\"Actual prices mean: \", IE_dataset['Value'].mean())"
   ]
  },
  {
   "cell_type": "code",
   "execution_count": 491,
   "id": "0e699185-fa8f-44fb-989e-0c7949462769",
   "metadata": {},
   "outputs": [
    {
     "name": "stdout",
     "output_type": "stream",
     "text": [
      "Predicted prices mode:  ModeResult(mode=4883.89198364965, count=1)\n",
      "\n",
      "Actual prices mode:  ModeResult(mode=2693.34, count=2)\n"
     ]
    }
   ],
   "source": [
    "print(\"Predicted prices mode: \", stats.mode(predicted_price))\n",
    "print(\"\\nActual prices mode: \", stats.mode(IE_dataset['Value']))"
   ]
  },
  {
   "cell_type": "code",
   "execution_count": 492,
   "id": "60a58b1d-3592-45cc-9434-537e01f618f6",
   "metadata": {},
   "outputs": [
    {
     "name": "stdout",
     "output_type": "stream",
     "text": [
      "Predicted prices range:  527.8829417796514\n",
      "\n",
      "Actual prices range:  9889.89\n"
     ]
    }
   ],
   "source": [
    "print(\"Predicted prices range: \", predicted_price.max() - predicted_price.min())\n",
    "print(\"\\nActual prices range: \", IE_dataset['Value'].max() - IE_dataset['Value'].min())"
   ]
  },
  {
   "cell_type": "code",
   "execution_count": 493,
   "id": "e73168e0-a6e1-4a35-93f7-098ddc083caa",
   "metadata": {},
   "outputs": [
    {
     "name": "stdout",
     "output_type": "stream",
     "text": [
      "Predicted prices skweness: 0.02529579368958915\n",
      "Actual prices skweness: -0.013538408818113367\n"
     ]
    }
   ],
   "source": [
    "print(\"Predicted prices skweness:\", stats.skew(predicted_price))\n",
    "print(\"Actual prices skweness:\", stats.skew(IE_dataset['Value']))"
   ]
  },
  {
   "cell_type": "markdown",
   "id": "bcfe85e8-61ad-457f-a5af-fd00400a9c75",
   "metadata": {},
   "source": [
    "So, from above stats we can analyse that there is not too much difference between MEAN of pridected price and actual price value. MODE have a noticeable difference RANGE have a huge difference and SKWENESS of both variables are different as predicated prices are skwed towards RIGHT and actual price values are skwed towards LEFT\r\n",
    "\r\n",
    "So, from this we can say that the price value is not only dependent on weights and quantity of the items but other variables like country location, import/export type, category type and others are al responsible.e."
   ]
  },
  {
   "cell_type": "code",
   "execution_count": null,
   "id": "69467b3a-c1b6-4208-b642-872d9caafd2e",
   "metadata": {},
   "outputs": [],
   "source": []
  },
  {
   "cell_type": "markdown",
   "id": "7433a4c4-44ec-416b-b0c7-043787bb6455",
   "metadata": {},
   "source": [
    "# VISUALIZATION"
   ]
  },
  {
   "cell_type": "markdown",
   "id": "9b9a4a56-0f4a-4ac6-9c45-2aa384c3874d",
   "metadata": {},
   "source": [
    "**Boxplot for value based on shipping method**"
   ]
  },
  {
   "cell_type": "code",
   "execution_count": 497,
   "id": "1f3d1063-8834-4c65-9815-b81764fd716b",
   "metadata": {},
   "outputs": [
    {
     "data": {
      "image/png": "[encoded data removed]",
      "text/plain": [
       "<Figure size 640x480 with 1 Axes>"
      ]
     },
     "metadata": {},
     "output_type": "display_data"
    }
   ],
   "source": [
    "import seaborn as sns  # Import seaborn for visualization\n",
    "import matplotlib.pyplot as plt  # Import matplotlib for plotting\n",
    "\n",
    "# Boxplot for value based on shipping method\n",
    "sns.boxplot(x='Shipping_Method', y='Value', data=IE_dataset)\n",
    "plt.title('Boxplot of Value by Shipping Method')\n",
    "plt.show()\n"
   ]
  },
  {
   "cell_type": "markdown",
   "id": "81e354d8-0ccf-49b7-8c91-07c79e0795bd",
   "metadata": {},
   "source": [
    "Land has the highest median and largest IQR, it suggests that land shipments generally have higher-value transactions with more variability.\n",
    "Air show a narrower IQR with fewer outliers, suggesting more consistency in transaction values.\n",
    "sea has a lower median and few outliers, it suggest that sea shipments handle smaller, more standardized transactions."
   ]
  },
  {
   "cell_type": "markdown",
   "id": "682c0651-de92-47d8-84d5-ea5dcaf59d29",
   "metadata": {},
   "source": [
    "**Scatter Plot of Quantity vs Value**"
   ]
  },
  {
   "cell_type": "code",
   "execution_count": 500,
   "id": "cc8867ef-653c-46ea-bcac-10eac218d848",
   "metadata": {},
   "outputs": [
    {
     "data": {
      "image/png": "[encoded data removed]",
      "text/plain": [
       "<Figure size 640x480 with 1 Axes>"
      ]
     },
     "metadata": {},
     "output_type": "display_data"
    }
   ],
   "source": [
    "# Scatter plot of Quantity vs Value\n",
    "plt.scatter(IE_dataset['Quantity'], IE_dataset['Value'])\n",
    "plt.title('Scatter Plot of Quantity vs Value')\n",
    "plt.xlabel('Quantity')\n",
    "plt.ylabel('Value')\n",
    "plt.show()"
   ]
  },
  {
   "cell_type": "markdown",
   "id": "d6a268bc-4696-40f0-9040-aebe2c333cf7",
   "metadata": {},
   "source": [
    "A dense cluster of points suggests that a significant number of transactions have similar value and quantity. This can indicate common price points or quantity ranges within the dataset."
   ]
  },
  {
   "cell_type": "markdown",
   "id": "47a2c950-8861-4911-a6dc-128a69db195b",
   "metadata": {},
   "source": [
    "**Histogram of Value**"
   ]
  },
  {
   "cell_type": "code",
   "execution_count": 503,
   "id": "3f00e65c-a3dd-4447-afab-070124b6d65b",
   "metadata": {},
   "outputs": [
    {
     "data": {
      "image/png": "[encoded data removed]",
      "text/plain": [
       "<Figure size 640x480 with 1 Axes>"
      ]
     },
     "metadata": {},
     "output_type": "display_data"
    }
   ],
   "source": [
    "# Histogram of the 'Value' column\n",
    "plt.hist(IE_dataset['Value'], bins=20, edgecolor='k')\n",
    "plt.title('Histogram of Transaction Values')\n",
    "plt.xlabel('Value')\n",
    "plt.ylabel('Frequency')\n",
    "plt.show()"
   ]
  },
  {
   "cell_type": "markdown",
   "id": "1f6ca648-5dce-47d6-b303-4aa703a0bc4b",
   "metadata": {},
   "source": [
    "Concentration of Values: The majority of the transaction values are concentrated within the lower value ranges, as indicated by the higher bars toward the left side of the graph. This suggests that most transactions in the dataset are of lower monetary value.\n",
    "\n",
    "Decrease in Frequency: As transaction values increase, the frequency of transactions decreases. This is seen from the gradually shorter bars as we move toward the right of the graph. It implies fewer high-value transactions.\n",
    "\n",
    "Skewness: The distribution seems slightly right-skewed, meaning there are a small number of very high-value transactions in the dataset, but the majority are lower-value ones."
   ]
  },
  {
   "cell_type": "markdown",
   "id": "ee98f46b-21f2-4c2a-88f7-1a29f5393fdb",
   "metadata": {},
   "source": [
    "**Pie chart for payment terms**"
   ]
  },
  {
   "cell_type": "code",
   "execution_count": 506,
   "id": "93bf17b0-1cc8-4e6f-88bf-f6297a96c328",
   "metadata": {},
   "outputs": [
    {
     "data": {
      "image/png": "[encoded data removed]",
      "text/plain": [
       "<Figure size 640x480 with 1 Axes>"
      ]
     },
     "metadata": {},
     "output_type": "display_data"
    }
   ],
   "source": [
    "prepaid = 0 \n",
    "net30 = 0\n",
    "cod = 0\n",
    "net60 = 0\n",
    "\n",
    "\n",
    "for i in range(len(IE_dataset['Payment_Terms'])):\n",
    "    payment_term = IE_dataset['Payment_Terms'].iloc[i] \n",
    "    \n",
    "    if payment_term == 'Prepaid':\n",
    "        prepaid += 1  # Increment the count for prepaid\n",
    "        \n",
    "    elif payment_term == 'Net 30':\n",
    "        net30 += 1  # Increment the count for Net 30\n",
    "        \n",
    "    elif payment_term == 'Cash on Delivery':\n",
    "        cod += 1  # Increment the count for Cash on Delivery\n",
    "        \n",
    "    elif payment_term == 'Net 60':\n",
    "        net60 += 1  # Increment the count for Net 60\n",
    "\n",
    "Payment_Terms = [prepaid, net30, cod, net60]\n",
    "labels = ['Prepaid', 'Net 30', 'Cash on Delivery', 'Net 60']\n",
    "\n",
    "plt.pie(Payment_Terms, labels=labels, autopct='%.2f')\n",
    "plt.title('Pie Plot of Payment Terms')\n",
    "\n",
    "plt.show()"
   ]
  },
  {
   "cell_type": "markdown",
   "id": "d6fc5d3f-7542-434d-8acc-86c668ff2073",
   "metadata": {},
   "source": [
    "Through pie chart we can say that all 4 payment terms are more or less are equally preferred during the transactions .\n",
    "The highest one is cash on delivery with 25.34% of the total weightage."
   ]
  },
  {
   "cell_type": "code",
   "execution_count": 508,
   "id": "a6a4e9bb-ef10-4a2c-9ff7-a4d4327ef785",
   "metadata": {},
   "outputs": [],
   "source": [
    "# Convert the 'Date' column to datetime\n",
    "IE_dataset['Date'] = pd.to_datetime(IE_dataset['Date'], format='%d-%m-%Y')\n"
   ]
  },
  {
   "cell_type": "code",
   "execution_count": 509,
   "id": "9d80a04a-9a1e-4238-b590-b5432a52f592",
   "metadata": {},
   "outputs": [
    {
     "name": "stdout",
     "output_type": "stream",
     "text": [
      "DatetimeIndex(['2022-02-04', '2022-09-26', '2019-12-25', '2023-12-30',\n",
      "               '2023-08-27', '2021-02-22', '2024-05-14', '2021-09-06',\n",
      "               '2023-05-25', '2022-07-01',\n",
      "               ...\n",
      "               '2022-07-13', '2022-12-22', '2019-12-04', '2020-10-08',\n",
      "               '2021-11-15', '2021-08-26', '2020-03-30', '2023-10-27',\n",
      "               '2021-03-05', '2023-08-23'],\n",
      "              dtype='datetime64[ns]', name='Date', length=2001, freq=None)\n"
     ]
    },
    {
     "name": "stderr",
     "output_type": "stream",
     "text": [
      "C:\\Users\\ishud\\AppData\\Local\\Temp\\ipykernel_24336\\1494774377.py:8: FutureWarning: 'Y' is deprecated and will be removed in a future version, please use 'YE' instead.\n",
      "  transactions_per_year = IE_dataset.resample('Y').size()\n"
     ]
    },
    {
     "data": {
      "image/png": "[encoded data removed]",
      "text/plain": [
       "<Figure size 1200x600 with 1 Axes>"
      ]
     },
     "metadata": {},
     "output_type": "display_data"
    }
   ],
   "source": [
    "# Group by year and count transactions\n",
    "# transactions_per_year = IE_dataset.resample('Y').size()\n",
    "\n",
    "\n",
    "IE_dataset['Date'] = pd.to_datetime(IE_dataset['Date'])\n",
    "IE_dataset.set_index('Date', inplace=True)\n",
    "print(IE_dataset.index) \n",
    "transactions_per_year = IE_dataset.resample('Y').size()\n",
    "\n",
    "plt.figure(figsize=(12, 6))\n",
    "transactions_per_year.plot(kind='bar')\n",
    "plt.title('Number of Transactions per Year')\n",
    "plt.xlabel('Year')\n",
    "plt.ylabel('Number of Transactions')\n",
    "plt.grid(True)\n",
    "plt.show()\n"
   ]
  },
  {
   "cell_type": "markdown",
   "id": "40b91b08-1827-448f-a827-2e999bba1792",
   "metadata": {},
   "source": [
    "Trends\n",
    "From the data, it’s evident that there was a substantial increase in transactions from 2019 to 2020, more than doubling in number. This sharp rise could indicate a rebound in trade activities following economic adjustments or responses to market demands.\n",
    "\n",
    "The transaction data from 2019 to 2024 indicates a volatile trade environment, marked by a significant recovery in 2020 followed by relative stability in the following years. However, the sharp decline in 2024 raises concerns that need to be addressed. Stakeholders should analyze the factors contributing to this decrease and strategize accordingly to mitigate risks and identify opportunities for revitalizing trade activities in the coming years."
   ]
  },
  {
   "cell_type": "code",
   "execution_count": null,
   "id": "a35bf806-7cc2-46c5-9741-169933501540",
   "metadata": {},
   "outputs": [],
   "source": []
  },
  {
   "cell_type": "code",
   "execution_count": null,
   "id": "d4a7a651-d728-4ba3-a226-3dfdcfc81c4b",
   "metadata": {},
   "outputs": [],
   "source": []
  }
 ],
 "metadata": {
  "kernelspec": {
   "display_name": "Python 3 (ipykernel)",
   "language": "python",
   "name": "python3"
  },
  "language_info": {
   "codemirror_mode": {
    "name": "ipython",
    "version": 3
   },
   "file_extension": ".py",
   "mimetype": "text/x-python",
   "name": "python",
   "nbconvert_exporter": "python",
   "pygments_lexer": "ipython3",
   "version": "3.12.4"
  }
 },
 "nbformat": 4,
 "nbformat_minor": 5
}
